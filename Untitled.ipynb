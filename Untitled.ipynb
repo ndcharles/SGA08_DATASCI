{
 "cells": [
  {
   "cell_type": "code",
   "execution_count": 1,
   "metadata": {},
   "outputs": [],
   "source": [
    "import pandas as pd\n",
    "import numpy as np"
   ]
  },
  {
   "cell_type": "code",
   "execution_count": 2,
   "metadata": {},
   "outputs": [],
   "source": [
    "df = pd.DataFrame({'Year': ['2001', '2002', '2001', '2001',\n",
    "                          '2002', '2001', '2002', '2002', '2002', '2001'],\n",
    "                    'A': np.random.randn(10),\n",
    "                    'B': np.random.randn(10)})"
   ]
  },
  {
   "cell_type": "code",
   "execution_count": 7,
   "metadata": {},
   "outputs": [
    {
     "ename": "SyntaxError",
     "evalue": "invalid syntax (<ipython-input-7-03fd411efcfb>, line 4)",
     "output_type": "error",
     "traceback": [
      "\u001b[1;36m  File \u001b[1;32m\"<ipython-input-7-03fd411efcfb>\"\u001b[1;36m, line \u001b[1;32m4\u001b[0m\n\u001b[1;33m    mean_ = row[]          # assign the range number, which is at index 1 in the row, to the range variable\u001b[0m\n\u001b[1;37m                ^\u001b[0m\n\u001b[1;31mSyntaxError\u001b[0m\u001b[1;31m:\u001b[0m invalid syntax\n"
     ]
    }
   ],
   "source": [
    "mean = []       # creating a new list to store our long range car data\n",
    "\n",
    "for row in df[1:]:        # iterate through ev_data, skipping the header row\n",
    "    mean_ = row[]          # assign the range number, which is at index 1 in the row, to the range variable\n",
    "    if mean_ == 2001:         # append the whole row to long-range list if range is higher than 200\n",
    "        np.mean_(row)\n",
    "\n",
    "print(mean)"
   ]
  },
  {
   "cell_type": "code",
   "execution_count": null,
   "metadata": {},
   "outputs": [],
   "source": []
  }
 ],
 "metadata": {
  "kernelspec": {
   "display_name": "Python 3",
   "language": "python",
   "name": "python3"
  },
  "language_info": {
   "codemirror_mode": {
    "name": "ipython",
    "version": 3
   },
   "file_extension": ".py",
   "mimetype": "text/x-python",
   "name": "python",
   "nbconvert_exporter": "python",
   "pygments_lexer": "ipython3",
   "version": "3.7.6"
  }
 },
 "nbformat": 4,
 "nbformat_minor": 4
}
