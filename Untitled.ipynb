{
 "cells": [
  {
   "cell_type": "code",
   "execution_count": 1,
   "metadata": {},
   "outputs": [],
   "source": [
    "import pandas as pd\n",
    "import numpy as np\n",
    "import seaborn as sns\n",
    "import matplotlib.pyplot as plt\n",
    "from sklearn import metrics"
   ]
  },
  {
   "cell_type": "code",
   "execution_count": 2,
   "metadata": {},
   "outputs": [],
   "source": [
    "energy = pd.read_csv('energy_efficiency.csv')"
   ]
  },
  {
   "cell_type": "code",
   "execution_count": 3,
   "metadata": {},
   "outputs": [
    {
     "data": {
      "text/html": [
       "<div>\n",
       "<style scoped>\n",
       "    .dataframe tbody tr th:only-of-type {\n",
       "        vertical-align: middle;\n",
       "    }\n",
       "\n",
       "    .dataframe tbody tr th {\n",
       "        vertical-align: top;\n",
       "    }\n",
       "\n",
       "    .dataframe thead th {\n",
       "        text-align: right;\n",
       "    }\n",
       "</style>\n",
       "<table border=\"1\" class=\"dataframe\">\n",
       "  <thead>\n",
       "    <tr style=\"text-align: right;\">\n",
       "      <th></th>\n",
       "      <th>Relative Compactness</th>\n",
       "      <th>Surface Area</th>\n",
       "      <th>Wall Area</th>\n",
       "      <th>Roof Area</th>\n",
       "      <th>Overall Height</th>\n",
       "      <th>Orientation</th>\n",
       "      <th>Glazing Area</th>\n",
       "      <th>Glazing Area Distribution</th>\n",
       "      <th>Heating Load</th>\n",
       "      <th>Cooling Load</th>\n",
       "    </tr>\n",
       "  </thead>\n",
       "  <tbody>\n",
       "    <tr>\n",
       "      <th>0</th>\n",
       "      <td>0.98</td>\n",
       "      <td>514.5</td>\n",
       "      <td>294.0</td>\n",
       "      <td>110.25</td>\n",
       "      <td>7.0</td>\n",
       "      <td>2</td>\n",
       "      <td>0.0</td>\n",
       "      <td>0</td>\n",
       "      <td>15.55</td>\n",
       "      <td>21.33</td>\n",
       "    </tr>\n",
       "    <tr>\n",
       "      <th>1</th>\n",
       "      <td>0.98</td>\n",
       "      <td>514.5</td>\n",
       "      <td>294.0</td>\n",
       "      <td>110.25</td>\n",
       "      <td>7.0</td>\n",
       "      <td>3</td>\n",
       "      <td>0.0</td>\n",
       "      <td>0</td>\n",
       "      <td>15.55</td>\n",
       "      <td>21.33</td>\n",
       "    </tr>\n",
       "    <tr>\n",
       "      <th>2</th>\n",
       "      <td>0.98</td>\n",
       "      <td>514.5</td>\n",
       "      <td>294.0</td>\n",
       "      <td>110.25</td>\n",
       "      <td>7.0</td>\n",
       "      <td>4</td>\n",
       "      <td>0.0</td>\n",
       "      <td>0</td>\n",
       "      <td>15.55</td>\n",
       "      <td>21.33</td>\n",
       "    </tr>\n",
       "    <tr>\n",
       "      <th>3</th>\n",
       "      <td>0.98</td>\n",
       "      <td>514.5</td>\n",
       "      <td>294.0</td>\n",
       "      <td>110.25</td>\n",
       "      <td>7.0</td>\n",
       "      <td>5</td>\n",
       "      <td>0.0</td>\n",
       "      <td>0</td>\n",
       "      <td>15.55</td>\n",
       "      <td>21.33</td>\n",
       "    </tr>\n",
       "    <tr>\n",
       "      <th>4</th>\n",
       "      <td>0.90</td>\n",
       "      <td>563.5</td>\n",
       "      <td>318.5</td>\n",
       "      <td>122.50</td>\n",
       "      <td>7.0</td>\n",
       "      <td>2</td>\n",
       "      <td>0.0</td>\n",
       "      <td>0</td>\n",
       "      <td>20.84</td>\n",
       "      <td>28.28</td>\n",
       "    </tr>\n",
       "  </tbody>\n",
       "</table>\n",
       "</div>"
      ],
      "text/plain": [
       "   Relative Compactness  Surface Area  Wall Area  Roof Area  Overall Height  \\\n",
       "0                  0.98         514.5      294.0     110.25             7.0   \n",
       "1                  0.98         514.5      294.0     110.25             7.0   \n",
       "2                  0.98         514.5      294.0     110.25             7.0   \n",
       "3                  0.98         514.5      294.0     110.25             7.0   \n",
       "4                  0.90         563.5      318.5     122.50             7.0   \n",
       "\n",
       "   Orientation  Glazing Area  Glazing Area Distribution  Heating Load  \\\n",
       "0            2           0.0                          0         15.55   \n",
       "1            3           0.0                          0         15.55   \n",
       "2            4           0.0                          0         15.55   \n",
       "3            5           0.0                          0         15.55   \n",
       "4            2           0.0                          0         20.84   \n",
       "\n",
       "   Cooling Load  \n",
       "0         21.33  \n",
       "1         21.33  \n",
       "2         21.33  \n",
       "3         21.33  \n",
       "4         28.28  "
      ]
     },
     "execution_count": 3,
     "metadata": {},
     "output_type": "execute_result"
    }
   ],
   "source": [
    "energy.head()"
   ]
  },
  {
   "cell_type": "code",
   "execution_count": 8,
   "metadata": {},
   "outputs": [
    {
     "data": {
      "text/plain": [
       "Relative Compactness         0\n",
       "Surface Area                 0\n",
       "Wall Area                    0\n",
       "Roof Area                    0\n",
       "Overall Height               0\n",
       "Orientation                  0\n",
       "Glazing Area                 0\n",
       "Glazing Area Distribution    0\n",
       "Heating Load                 0\n",
       "Cooling Load                 0\n",
       "dtype: int64"
      ]
     },
     "execution_count": 8,
     "metadata": {},
     "output_type": "execute_result"
    }
   ],
   "source": [
    "energy.isnull().sum()"
   ]
  },
  {
   "cell_type": "code",
   "execution_count": 14,
   "metadata": {},
   "outputs": [
    {
     "data": {
      "text/plain": [
       "<matplotlib.axes._subplots.AxesSubplot at 0x5a0e340108>"
      ]
     },
     "execution_count": 14,
     "metadata": {},
     "output_type": "execute_result"
    },
    {
     "data": {
      "image/png": "[encoded data removed]",
      "text/plain": [
       "<Figure size 864x648 with 2 Axes>"
      ]
     },
     "metadata": {
      "needs_background": "light"
     },
     "output_type": "display_data"
    }
   ],
   "source": [
    "plt.figure(figsize=(12, 9))\n",
    "sns.heatmap(energy.corr(), annot = True, vmin=-1, vmax=1, center= 0, cmap= 'coolwarm', linewidths=.5)"
   ]
  },
  {
   "cell_type": "code",
   "execution_count": 16,
   "metadata": {},
   "outputs": [],
   "source": [
    "sample_data = energy[['Relative Compactness', 'Cooling Load']].sample(15, random_state=2)"
   ]
  },
  {
   "cell_type": "code",
   "execution_count": 18,
   "metadata": {},
   "outputs": [
    {
     "data": {
      "text/plain": [
       "<matplotlib.axes._subplots.AxesSubplot at 0x5a19465dc8>"
      ]
     },
     "execution_count": 18,
     "metadata": {},
     "output_type": "execute_result"
    },
    {
     "data": {
      "image/png": "[encoded data removed]",
      "text/plain": [
       "<Figure size 432x288 with 1 Axes>"
      ]
     },
     "metadata": {
      "needs_background": "light"
     },
     "output_type": "display_data"
    }
   ],
   "source": [
    "sns.regplot('Relative Compactness', 'Cooling Load', data=sample_data)"
   ]
  },
  {
   "cell_type": "code",
   "execution_count": 4,
   "metadata": {},
   "outputs": [],
   "source": [
    "from sklearn.model_selection import train_test_split\n",
    "from sklearn.linear_model import LinearRegression"
   ]
  },
  {
   "cell_type": "code",
   "execution_count": 25,
   "metadata": {},
   "outputs": [],
   "source": [
    "X = energy['Surface Area'].values.reshape(-1, 1)\n",
    "y = energy['Relative Compactness'].values.reshape(-1, 1)"
   ]
  },
  {
   "cell_type": "code",
   "execution_count": 26,
   "metadata": {},
   "outputs": [],
   "source": [
    "# we split data to train and test (80/20, resp)\n",
    "X_train, X_test, y_train, y_test = train_test_split(X, y, test_size=0.3, random_state=42)"
   ]
  },
  {
   "cell_type": "code",
   "execution_count": 27,
   "metadata": {},
   "outputs": [
    {
     "data": {
      "text/plain": [
       "LinearRegression()"
      ]
     },
     "execution_count": 27,
     "metadata": {},
     "output_type": "execute_result"
    }
   ],
   "source": [
    "energy_reg = LinearRegression()  \n",
    "energy_reg.fit(X_train, y_train) "
   ]
  },
  {
   "cell_type": "code",
   "execution_count": 29,
   "metadata": {},
   "outputs": [
    {
     "name": "stdout",
     "output_type": "stream",
     "text": [
      "[1.55964488]\n"
     ]
    }
   ],
   "source": [
    "print(energy_reg.intercept_)"
   ]
  },
  {
   "cell_type": "code",
   "execution_count": 31,
   "metadata": {},
   "outputs": [
    {
     "name": "stdout",
     "output_type": "stream",
     "text": [
      "[[-0.00118437]]\n"
     ]
    }
   ],
   "source": [
    "print(energy_reg.coef_)"
   ]
  },
  {
   "cell_type": "code",
   "execution_count": 32,
   "metadata": {},
   "outputs": [],
   "source": [
    "y_pred = energy_reg.predict(X_test)"
   ]
  },
  {
   "cell_type": "code",
   "execution_count": 33,
   "metadata": {},
   "outputs": [
    {
     "name": "stdout",
     "output_type": "stream",
     "text": [
      "[[0.60208425]\n",
      " [0.66011822]\n",
      " [0.95028811]\n",
      " [0.80520317]\n",
      " [0.63110123]\n",
      " [0.83422016]\n",
      " [0.95028811]\n",
      " [0.95028811]\n",
      " [0.63110123]\n",
      " [0.89225413]\n",
      " [0.63110123]\n",
      " [0.77618618]\n",
      " [0.89225413]\n",
      " [0.74716919]\n",
      " [0.63110123]\n",
      " [0.77618618]\n",
      " [0.77618618]\n",
      " [0.74716919]\n",
      " [0.7181522 ]\n",
      " [0.77618618]\n",
      " [0.83422016]\n",
      " [0.80520317]\n",
      " [0.66011822]\n",
      " [0.80520317]\n",
      " [0.63110123]\n",
      " [0.80520317]\n",
      " [0.89225413]\n",
      " [0.83422016]\n",
      " [0.63110123]\n",
      " [0.60208425]\n",
      " [0.74716919]\n",
      " [0.74716919]\n",
      " [0.63110123]\n",
      " [0.83422016]\n",
      " [0.80520317]\n",
      " [0.95028811]\n",
      " [0.95028811]\n",
      " [0.80520317]\n",
      " [0.89225413]\n",
      " [0.7181522 ]\n",
      " [0.95028811]\n",
      " [0.74716919]\n",
      " [0.7181522 ]\n",
      " [0.86323714]\n",
      " [0.68913521]\n",
      " [0.7181522 ]\n",
      " [0.66011822]\n",
      " [0.7181522 ]\n",
      " [0.86323714]\n",
      " [0.89225413]\n",
      " [0.89225413]\n",
      " [0.66011822]\n",
      " [0.66011822]\n",
      " [0.80520317]\n",
      " [0.7181522 ]\n",
      " [0.63110123]\n",
      " [0.74716919]\n",
      " [0.83422016]\n",
      " [0.77618618]\n",
      " [0.77618618]\n",
      " [0.68913521]\n",
      " [0.60208425]\n",
      " [0.66011822]\n",
      " [0.83422016]\n",
      " [0.95028811]\n",
      " [0.80520317]\n",
      " [0.80520317]\n",
      " [0.66011822]\n",
      " [0.60208425]\n",
      " [0.74716919]\n",
      " [0.89225413]\n",
      " [0.95028811]\n",
      " [0.68913521]\n",
      " [0.83422016]\n",
      " [0.86323714]\n",
      " [0.74716919]\n",
      " [0.83422016]\n",
      " [0.83422016]\n",
      " [0.95028811]\n",
      " [0.86323714]\n",
      " [0.95028811]\n",
      " [0.80520317]\n",
      " [0.7181522 ]\n",
      " [0.60208425]\n",
      " [0.66011822]\n",
      " [0.7181522 ]\n",
      " [0.86323714]\n",
      " [0.77618618]\n",
      " [0.80520317]\n",
      " [0.63110123]\n",
      " [0.63110123]\n",
      " [0.83422016]\n",
      " [0.68913521]\n",
      " [0.66011822]\n",
      " [0.77618618]\n",
      " [0.66011822]\n",
      " [0.86323714]\n",
      " [0.86323714]\n",
      " [0.7181522 ]\n",
      " [0.7181522 ]\n",
      " [0.77618618]\n",
      " [0.95028811]\n",
      " [0.74716919]\n",
      " [0.89225413]\n",
      " [0.86323714]\n",
      " [0.60208425]\n",
      " [0.83422016]\n",
      " [0.60208425]\n",
      " [0.68913521]\n",
      " [0.74716919]\n",
      " [0.77618618]\n",
      " [0.86323714]\n",
      " [0.95028811]\n",
      " [0.66011822]\n",
      " [0.74716919]\n",
      " [0.7181522 ]\n",
      " [0.68913521]\n",
      " [0.74716919]\n",
      " [0.68913521]\n",
      " [0.89225413]\n",
      " [0.89225413]\n",
      " [0.68913521]\n",
      " [0.77618618]\n",
      " [0.60208425]\n",
      " [0.89225413]\n",
      " [0.63110123]\n",
      " [0.68913521]\n",
      " [0.80520317]\n",
      " [0.95028811]\n",
      " [0.77618618]\n",
      " [0.95028811]\n",
      " [0.77618618]\n",
      " [0.60208425]\n",
      " [0.74716919]\n",
      " [0.7181522 ]\n",
      " [0.63110123]\n",
      " [0.86323714]\n",
      " [0.80520317]\n",
      " [0.74716919]\n",
      " [0.63110123]\n",
      " [0.7181522 ]\n",
      " [0.77618618]\n",
      " [0.95028811]\n",
      " [0.89225413]\n",
      " [0.89225413]\n",
      " [0.66011822]\n",
      " [0.74716919]\n",
      " [0.89225413]\n",
      " [0.89225413]\n",
      " [0.80520317]\n",
      " [0.89225413]\n",
      " [0.86323714]\n",
      " [0.86323714]\n",
      " [0.7181522 ]\n",
      " [0.83422016]\n",
      " [0.63110123]\n",
      " [0.86323714]\n",
      " [0.89225413]\n",
      " [0.66011822]\n",
      " [0.89225413]\n",
      " [0.89225413]\n",
      " [0.80520317]\n",
      " [0.60208425]\n",
      " [0.63110123]\n",
      " [0.63110123]\n",
      " [0.63110123]\n",
      " [0.83422016]\n",
      " [0.77618618]\n",
      " [0.77618618]\n",
      " [0.68913521]\n",
      " [0.60208425]\n",
      " [0.77618618]\n",
      " [0.74716919]\n",
      " [0.95028811]\n",
      " [0.60208425]\n",
      " [0.80520317]\n",
      " [0.66011822]\n",
      " [0.74716919]\n",
      " [0.77618618]\n",
      " [0.77618618]\n",
      " [0.7181522 ]\n",
      " [0.68913521]\n",
      " [0.89225413]\n",
      " [0.74716919]\n",
      " [0.89225413]\n",
      " [0.63110123]\n",
      " [0.95028811]\n",
      " [0.74716919]\n",
      " [0.7181522 ]\n",
      " [0.80520317]\n",
      " [0.89225413]\n",
      " [0.66011822]\n",
      " [0.77618618]\n",
      " [0.74716919]\n",
      " [0.80520317]\n",
      " [0.80520317]\n",
      " [0.95028811]\n",
      " [0.68913521]\n",
      " [0.95028811]\n",
      " [0.66011822]\n",
      " [0.7181522 ]\n",
      " [0.89225413]\n",
      " [0.60208425]\n",
      " [0.86323714]\n",
      " [0.63110123]\n",
      " [0.83422016]\n",
      " [0.83422016]\n",
      " [0.95028811]\n",
      " [0.86323714]\n",
      " [0.68913521]\n",
      " [0.83422016]\n",
      " [0.66011822]\n",
      " [0.60208425]\n",
      " [0.95028811]\n",
      " [0.74716919]\n",
      " [0.68913521]\n",
      " [0.89225413]\n",
      " [0.86323714]\n",
      " [0.83422016]\n",
      " [0.66011822]\n",
      " [0.83422016]\n",
      " [0.68913521]\n",
      " [0.95028811]\n",
      " [0.80520317]\n",
      " [0.63110123]\n",
      " [0.7181522 ]\n",
      " [0.63110123]\n",
      " [0.89225413]\n",
      " [0.86323714]\n",
      " [0.63110123]\n",
      " [0.83422016]]\n"
     ]
    }
   ],
   "source": [
    "print(y_pred)"
   ]
  },
  {
   "cell_type": "code",
   "execution_count": 34,
   "metadata": {},
   "outputs": [
    {
     "data": {
      "text/html": [
       "<div>\n",
       "<style scoped>\n",
       "    .dataframe tbody tr th:only-of-type {\n",
       "        vertical-align: middle;\n",
       "    }\n",
       "\n",
       "    .dataframe tbody tr th {\n",
       "        vertical-align: top;\n",
       "    }\n",
       "\n",
       "    .dataframe thead th {\n",
       "        text-align: right;\n",
       "    }\n",
       "</style>\n",
       "<table border=\"1\" class=\"dataframe\">\n",
       "  <thead>\n",
       "    <tr style=\"text-align: right;\">\n",
       "      <th></th>\n",
       "      <th>Actual</th>\n",
       "      <th>Predicted</th>\n",
       "    </tr>\n",
       "  </thead>\n",
       "  <tbody>\n",
       "    <tr>\n",
       "      <th>0</th>\n",
       "      <td>0.62</td>\n",
       "      <td>0.602084</td>\n",
       "    </tr>\n",
       "    <tr>\n",
       "      <th>1</th>\n",
       "      <td>0.66</td>\n",
       "      <td>0.660118</td>\n",
       "    </tr>\n",
       "    <tr>\n",
       "      <th>2</th>\n",
       "      <td>0.98</td>\n",
       "      <td>0.950288</td>\n",
       "    </tr>\n",
       "    <tr>\n",
       "      <th>3</th>\n",
       "      <td>0.79</td>\n",
       "      <td>0.805203</td>\n",
       "    </tr>\n",
       "    <tr>\n",
       "      <th>4</th>\n",
       "      <td>0.64</td>\n",
       "      <td>0.631101</td>\n",
       "    </tr>\n",
       "    <tr>\n",
       "      <th>...</th>\n",
       "      <td>...</td>\n",
       "      <td>...</td>\n",
       "    </tr>\n",
       "    <tr>\n",
       "      <th>226</th>\n",
       "      <td>0.64</td>\n",
       "      <td>0.631101</td>\n",
       "    </tr>\n",
       "    <tr>\n",
       "      <th>227</th>\n",
       "      <td>0.90</td>\n",
       "      <td>0.892254</td>\n",
       "    </tr>\n",
       "    <tr>\n",
       "      <th>228</th>\n",
       "      <td>0.86</td>\n",
       "      <td>0.863237</td>\n",
       "    </tr>\n",
       "    <tr>\n",
       "      <th>229</th>\n",
       "      <td>0.64</td>\n",
       "      <td>0.631101</td>\n",
       "    </tr>\n",
       "    <tr>\n",
       "      <th>230</th>\n",
       "      <td>0.82</td>\n",
       "      <td>0.834220</td>\n",
       "    </tr>\n",
       "  </tbody>\n",
       "</table>\n",
       "<p>231 rows × 2 columns</p>\n",
       "</div>"
      ],
      "text/plain": [
       "     Actual  Predicted\n",
       "0      0.62   0.602084\n",
       "1      0.66   0.660118\n",
       "2      0.98   0.950288\n",
       "3      0.79   0.805203\n",
       "4      0.64   0.631101\n",
       "..      ...        ...\n",
       "226    0.64   0.631101\n",
       "227    0.90   0.892254\n",
       "228    0.86   0.863237\n",
       "229    0.64   0.631101\n",
       "230    0.82   0.834220\n",
       "\n",
       "[231 rows x 2 columns]"
      ]
     },
     "execution_count": 34,
     "metadata": {},
     "output_type": "execute_result"
    }
   ],
   "source": [
    "pd.DataFrame({'Actual': y_test.flatten(), 'Predicted': y_pred.flatten()})"
   ]
  },
  {
   "cell_type": "code",
   "execution_count": 37,
   "metadata": {},
   "outputs": [
    {
     "data": {
      "text/plain": [
       "<bound method RegressorMixin.score of LinearRegression()>"
      ]
     },
     "execution_count": 37,
     "metadata": {},
     "output_type": "execute_result"
    }
   ],
   "source": [
    "energy_reg.score"
   ]
  },
  {
   "cell_type": "code",
   "execution_count": 40,
   "metadata": {},
   "outputs": [
    {
     "data": {
      "image/png": "[encoded data removed]",
      "text/plain": [
       "<Figure size 432x288 with 1 Axes>"
      ]
     },
     "metadata": {
      "needs_background": "light"
     },
     "output_type": "display_data"
    }
   ],
   "source": [
    "plt.scatter(X_test, y_test,  color='gray')\n",
    "plt.plot(X_test, y_pred, color='red', linewidth=2)\n",
    "plt.show()"
   ]
  },
  {
   "cell_type": "code",
   "execution_count": 44,
   "metadata": {},
   "outputs": [
    {
     "name": "stdout",
     "output_type": "stream",
     "text": [
      "Mean Absolute Error: 0.011079200797685932\n",
      "Mean Squared Error: 0.00018756312504800355\n",
      "Root Mean Squared Error: 0.013695368744506426\n"
     ]
    }
   ],
   "source": [
    "print('Mean Absolute Error:', metrics.mean_absolute_error(y_test, y_pred))  \n",
    "print('Mean Squared Error:', metrics.mean_squared_error(y_test, y_pred))  \n",
    "print('Root Mean Squared Error:', np.sqrt(metrics.mean_squared_error(y_test, y_pred)))"
   ]
  },
  {
   "cell_type": "code",
   "execution_count": null,
   "metadata": {},
   "outputs": [],
   "source": []
  },
  {
   "cell_type": "code",
   "execution_count": null,
   "metadata": {},
   "outputs": [],
   "source": []
  },
  {
   "cell_type": "code",
   "execution_count": 52,
   "metadata": {},
   "outputs": [],
   "source": [
    "# Multiple regression"
   ]
  },
  {
   "cell_type": "code",
   "execution_count": 5,
   "metadata": {},
   "outputs": [],
   "source": [
    "X = energy[['Relative Compactness', 'Surface Area', 'Wall Area', 'Roof Area', 'Overall Height', \n",
    "           'Orientation', 'Glazing Area', 'Glazing Area Distribution']]"
   ]
  },
  {
   "cell_type": "code",
   "execution_count": 6,
   "metadata": {},
   "outputs": [],
   "source": [
    "y = energy[['Heating Load', 'Cooling Load']]"
   ]
  },
  {
   "cell_type": "code",
   "execution_count": 7,
   "metadata": {},
   "outputs": [],
   "source": [
    "X_train, X_test, y_train, y_test = train_test_split(X, y, test_size=0.2, random_state=0)"
   ]
  },
  {
   "cell_type": "code",
   "execution_count": 8,
   "metadata": {},
   "outputs": [],
   "source": [
    "model = LinearRegression(fit_intercept=True)"
   ]
  },
  {
   "cell_type": "code",
   "execution_count": 10,
   "metadata": {},
   "outputs": [
    {
     "data": {
      "text/plain": [
       "LinearRegression()"
      ]
     },
     "execution_count": 10,
     "metadata": {},
     "output_type": "execute_result"
    }
   ],
   "source": [
    "model.fit(X, y)"
   ]
  },
  {
   "cell_type": "code",
   "execution_count": 11,
   "metadata": {},
   "outputs": [
    {
     "name": "stdout",
     "output_type": "stream",
     "text": [
      "<bound method RegressorMixin.score of LinearRegression()>\n"
     ]
    }
   ],
   "source": [
    "print(model.score)"
   ]
  },
  {
   "cell_type": "code",
   "execution_count": 15,
   "metadata": {},
   "outputs": [],
   "source": [
    "y_pred = model.predict(X_test)"
   ]
  },
  {
   "cell_type": "code",
   "execution_count": 17,
   "metadata": {},
   "outputs": [
    {
     "name": "stdout",
     "output_type": "stream",
     "text": [
      "[[-6.07902199e+01 -1.80172440e+12  1.80172440e+12  3.60344880e+12\n",
      "   4.14679146e+00 -2.69854044e-02  1.99026118e+01  2.00294943e-01]\n",
      " [-6.85183578e+01 -1.02634946e+12  1.02634946e+12  2.05269891e+12\n",
      "   4.27076340e+00  1.19528486e-01  1.46999260e+01  3.93136324e-02]] [78.43220052 94.08776042]\n"
     ]
    }
   ],
   "source": [
    "print(model.coef_, model.intercept_)"
   ]
  },
  {
   "cell_type": "code",
   "execution_count": 16,
   "metadata": {},
   "outputs": [
    {
     "name": "stdout",
     "output_type": "stream",
     "text": [
      "Mean Absolute Error: 2.2447326235761746\n",
      "Mean Squared Error: 10.29191442457936\n",
      "Root Mean Squared Error: 3.2081013738002984\n"
     ]
    }
   ],
   "source": [
    "print('Mean Absolute Error:', metrics.mean_absolute_error(y_test, y_pred))  \n",
    "print('Mean Squared Error:', metrics.mean_squared_error(y_test, y_pred))  \n",
    "print('Root Mean Squared Error:', np.sqrt(metrics.mean_squared_error(y_test, y_pred)))"
   ]
  },
  {
   "cell_type": "code",
   "execution_count": 18,
   "metadata": {},
   "outputs": [
    {
     "data": {
      "text/plain": [
       "Ridge(alpha=0.5)"
      ]
     },
     "execution_count": 18,
     "metadata": {},
     "output_type": "execute_result"
    }
   ],
   "source": [
    "from sklearn.linear_model import Ridge\n",
    "ridge_reg = Ridge(alpha= 0.5 )\n",
    "ridge_reg.fit(X_train, y_train)"
   ]
  },
  {
   "cell_type": "code",
   "execution_count": 20,
   "metadata": {},
   "outputs": [
    {
     "name": "stderr",
     "output_type": "stream",
     "text": [
      "C:\\Users\\USER\\anaconda3\\lib\\site-packages\\sklearn\\linear_model\\_coordinate_descent.py:531: ConvergenceWarning: Objective did not converge. You might want to increase the number of iterations. Duality gap: 125.85763033120566, tolerance: 6.10342716534202\n",
      "  positive)\n",
      "C:\\Users\\USER\\anaconda3\\lib\\site-packages\\sklearn\\linear_model\\_coordinate_descent.py:531: ConvergenceWarning: Objective did not converge. You might want to increase the number of iterations. Duality gap: 134.01759926743944, tolerance: 5.491638708338763\n",
      "  positive)\n"
     ]
    },
    {
     "data": {
      "text/plain": [
       "Lasso(alpha=0.001)"
      ]
     },
     "execution_count": 20,
     "metadata": {},
     "output_type": "execute_result"
    }
   ],
   "source": [
    "from sklearn.linear_model import Lasso\n",
    "lasso_reg = Lasso(alpha= 0.001 )\n",
    "lasso_reg.fit(X_train, y_train)"
   ]
  },
  {
   "cell_type": "code",
   "execution_count": 27,
   "metadata": {},
   "outputs": [],
   "source": [
    "def get_weights_df(model, feat, col_name) :\n",
    "#this function returns the weight of every feature\n",
    "    weights = pd.Series(model.coef_, X).sort_values()\n",
    "    weights_df = pd.DataFrame(weights).reset_index()\n",
    "    weights_df.columns = [ 'Features' , col_name]\n",
    "    weights_df[col_name].round( 3 )\n",
    "    return weights_df"
   ]
  },
  {
   "cell_type": "code",
   "execution_count": null,
   "metadata": {},
   "outputs": [],
   "source": []
  },
  {
   "cell_type": "code",
   "execution_count": null,
   "metadata": {},
   "outputs": [],
   "source": []
  }
 ],
 "metadata": {
  "kernelspec": {
   "display_name": "Python 3",
   "language": "python",
   "name": "python3"
  },
  "language_info": {
   "codemirror_mode": {
    "name": "ipython",
    "version": 3
   },
   "file_extension": ".py",
   "mimetype": "text/x-python",
   "name": "python",
   "nbconvert_exporter": "python",
   "pygments_lexer": "ipython3",
   "version": "3.7.6"
  }
 },
 "nbformat": 4,
 "nbformat_minor": 4
}
