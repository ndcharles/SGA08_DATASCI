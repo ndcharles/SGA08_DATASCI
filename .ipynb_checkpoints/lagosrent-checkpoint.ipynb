{
 "cells": [
  {
   "cell_type": "markdown",
   "metadata": {},
   "source": [
    "## WEB SCRAPING\n",
    "Scraping script for linear regression on lagos rent.\n",
    "Couldn't get it into a functional code due to debugging issues."
   ]
  },
  {
   "cell_type": "code",
   "execution_count": 1,
   "metadata": {},
   "outputs": [],
   "source": [
    "import pandas as pd\n",
    "import requests\n",
    "from bs4 import BeautifulSoup"
   ]
  },
  {
   "cell_type": "code",
   "execution_count": 1615,
   "metadata": {},
   "outputs": [],
   "source": [
    "url = \"https://nigeriapropertycentre.com/for-rent/flats-apartments/lagos/showtype?bedrooms=2\"\n",
    "# you can append: url + '&page=' + str(i)"
   ]
  },
  {
   "cell_type": "code",
   "execution_count": 1616,
   "metadata": {},
   "outputs": [
    {
     "data": {
      "text/plain": [
       "200"
      ]
     },
     "execution_count": 1616,
     "metadata": {},
     "output_type": "execute_result"
    }
   ],
   "source": [
    "request = requests.get(url)\n",
    "request.status_code"
   ]
  },
  {
   "cell_type": "code",
   "execution_count": 1617,
   "metadata": {},
   "outputs": [
    {
     "name": "stdout",
     "output_type": "stream",
     "text": [
      "2 Bedroom Flats for Rent in Lagos, Nigeria (2,184 available)\n"
     ]
    }
   ],
   "source": [
    "soup = BeautifulSoup(request.text, 'lxml')\n",
    "print(soup.title.get_text())"
   ]
  },
  {
   "cell_type": "code",
   "execution_count": 1618,
   "metadata": {},
   "outputs": [],
   "source": [
    "titles = soup.select('.wp-block-title.hidden-xs > a > h3')"
   ]
  },
  {
   "cell_type": "code",
   "execution_count": 1619,
   "metadata": {},
   "outputs": [
    {
     "data": {
      "text/plain": [
       "'Luxury Newly Built 2 Bedroom Apartment Is Available At Shongotedo Ajah'"
      ]
     },
     "execution_count": 1619,
     "metadata": {},
     "output_type": "execute_result"
    }
   ],
   "source": [
    "titles_list = []\n",
    "for title in titles:\n",
    "    titles_list.append(title.get_text())\n",
    "titles_list[0]"
   ]
  },
  {
   "cell_type": "code",
   "execution_count": 1601,
   "metadata": {},
   "outputs": [],
   "source": [
    "locations = soup.select('.voffset-bottom-10')"
   ]
  },
  {
   "cell_type": "code",
   "execution_count": 1602,
   "metadata": {},
   "outputs": [
    {
     "data": {
      "text/plain": [
       "'Mende, Maryland, Lagos'"
      ]
     },
     "execution_count": 1602,
     "metadata": {},
     "output_type": "execute_result"
    }
   ],
   "source": [
    "locations_list = []\n",
    "for location in locations:\n",
    "    locations_list.append(location.get_text().strip())\n",
    "locations_list[0]"
   ]
  },
  {
   "cell_type": "code",
   "execution_count": 1603,
   "metadata": {},
   "outputs": [
    {
     "data": {
      "text/plain": [
       "4"
      ]
     },
     "execution_count": 1603,
     "metadata": {},
     "output_type": "execute_result"
    }
   ],
   "source": [
    "len(titles_list)"
   ]
  },
  {
   "cell_type": "code",
   "execution_count": 1604,
   "metadata": {},
   "outputs": [
    {
     "data": {
      "text/plain": [
       "5"
      ]
     },
     "execution_count": 1604,
     "metadata": {},
     "output_type": "execute_result"
    }
   ],
   "source": [
    "len(locations_list)"
   ]
  },
  {
   "cell_type": "code",
   "execution_count": 1605,
   "metadata": {},
   "outputs": [],
   "source": [
    "prices = soup.select('.pull-sm-left')"
   ]
  },
  {
   "cell_type": "code",
   "execution_count": 1606,
   "metadata": {},
   "outputs": [
    {
     "data": {
      "text/plain": [
       "1200000"
      ]
     },
     "execution_count": 1606,
     "metadata": {},
     "output_type": "execute_result"
    }
   ],
   "source": [
    "prices_list = []\n",
    "for price in prices:\n",
    "    obj = price.get_text().strip().split()[0][1:]\n",
    "    obj = obj.replace(',', '')\n",
    "    obj = int(obj)\n",
    "    prices_list.append(obj)\n",
    "prices_list[0]"
   ]
  },
  {
   "cell_type": "code",
   "execution_count": 1607,
   "metadata": {},
   "outputs": [],
   "source": [
    "advertisers = soup.select('.marketed-by.pull-right.hidden-xs.hidden-sm.text-right')"
   ]
  },
  {
   "cell_type": "code",
   "execution_count": 1608,
   "metadata": {},
   "outputs": [
    {
     "data": {
      "text/plain": [
       "['Homesearch']"
      ]
     },
     "execution_count": 1608,
     "metadata": {},
     "output_type": "execute_result"
    }
   ],
   "source": [
    "advertisers_list = []\n",
    "for advertiser in advertisers:\n",
    "    adv = advertiser.get_text().strip().split()[:1]\n",
    "    adv = adv\n",
    "    advertisers_list.append(adv)\n",
    "advertisers_list[0]"
   ]
  },
  {
   "cell_type": "code",
   "execution_count": 1609,
   "metadata": {},
   "outputs": [],
   "source": [
    "rentage = ({\"title\": titles_list, \n",
    "                         \"location\": locations_list,\n",
    "                       \"price\": prices_list,\n",
    "                       \"advertiser\": advertisers_list})\n",
    "\n",
    "rentals = pd.DataFrame.from_dict(rentage, orient='index')\n",
    "rentals.to_csv('lagos_rent.csv')"
   ]
  },
  {
   "cell_type": "code",
   "execution_count": null,
   "metadata": {},
   "outputs": [],
   "source": []
  }
 ],
 "metadata": {
  "kernelspec": {
   "display_name": "Python 3",
   "language": "python",
   "name": "python3"
  },
  "language_info": {
   "codemirror_mode": {
    "name": "ipython",
    "version": 3
   },
   "file_extension": ".py",
   "mimetype": "text/x-python",
   "name": "python",
   "nbconvert_exporter": "python",
   "pygments_lexer": "ipython3",
   "version": "3.7.6"
  }
 },
 "nbformat": 4,
 "nbformat_minor": 4
}
