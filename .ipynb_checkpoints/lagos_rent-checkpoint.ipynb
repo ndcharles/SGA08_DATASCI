{
 "cells": [
  {
   "cell_type": "code",
   "execution_count": 1,
   "metadata": {},
   "outputs": [],
   "source": [
    "# Not bad, just didn't use it again. See lagos_rent.ipynb for the final script."
   ]
  },
  {
   "cell_type": "code",
   "execution_count": 1,
   "metadata": {},
   "outputs": [],
   "source": [
    "import pandas as pd\n",
    "import numpy as np\n",
    "import requests\n",
    "from bs4 import BeautifulSoup\n",
    "import time"
   ]
  },
  {
   "cell_type": "code",
   "execution_count": 2,
   "metadata": {},
   "outputs": [],
   "source": [
    "url = \"https://nigeriapropertycentre.com/for-rent/flats-apartments/lagos?bedrooms=2&q=for-rent+flats-apartments+lagos+2+bedrooms\""
   ]
  },
  {
   "cell_type": "code",
   "execution_count": 3,
   "metadata": {},
   "outputs": [],
   "source": [
    "r = requests.get(url)"
   ]
  },
  {
   "cell_type": "code",
   "execution_count": 4,
   "metadata": {},
   "outputs": [
    {
     "data": {
      "text/plain": [
       "200"
      ]
     },
     "execution_count": 4,
     "metadata": {},
     "output_type": "execute_result"
    }
   ],
   "source": [
    "r.status_code"
   ]
  },
  {
   "cell_type": "code",
   "execution_count": 5,
   "metadata": {},
   "outputs": [],
   "source": [
    "soup = BeautifulSoup(r.text, 'lxml')"
   ]
  },
  {
   "cell_type": "code",
   "execution_count": 6,
   "metadata": {},
   "outputs": [
    {
     "name": "stdout",
     "output_type": "stream",
     "text": [
      "2 Bedroom Flats for Rent in Lagos, Nigeria (2,180 available)\n"
     ]
    }
   ],
   "source": [
    "print(soup.title.get_text())"
   ]
  },
  {
   "cell_type": "code",
   "execution_count": 37,
   "metadata": {},
   "outputs": [],
   "source": [
    "titles = soup.select('.wp-block-title.hidden-xs > a > h3')"
   ]
  },
  {
   "cell_type": "code",
   "execution_count": 39,
   "metadata": {},
   "outputs": [
    {
     "data": {
      "text/plain": [
       "'Brand New Luxury 2bedroom Flat'"
      ]
     },
     "execution_count": 39,
     "metadata": {},
     "output_type": "execute_result"
    }
   ],
   "source": [
    "titles_list = []\n",
    "for title in titles:\n",
    "    titles_list.append(title.get_text())\n",
    "titles_list[1]"
   ]
  },
  {
   "cell_type": "code",
   "execution_count": 50,
   "metadata": {},
   "outputs": [],
   "source": [
    "#locations = soup.select('.voffset-bottom-10')"
   ]
  },
  {
   "cell_type": "code",
   "execution_count": 52,
   "metadata": {},
   "outputs": [
    {
     "data": {
      "text/plain": [
       "['Off Freedom Way, Lekki Phase 1, Lekki, Lagos',\n",
       " 'Okerube,abaranje, Ijegun, Ikotun, Lagos',\n",
       " 'Blenko, Sangotedo, Ajah, Lagos',\n",
       " 'Chevron Drive Road Bera Estates Lekki, Lekki Expressway, Lekki, Lagos',\n",
       " 'Julie Estate, Oregun, Ikeja, Lagos',\n",
       " 'Off Durosimi Etti Street, Lekki Phase 1, Lekki, Lagos',\n",
       " 'Lekki Palm Estate, Ajah, Lagos',\n",
       " 'Ado, Ajah, Lagos',\n",
       " 'Ajah, Lagos',\n",
       " 'Ado Road, Ajah, Lagos',\n",
       " 'Harmony Estate, Badore, Ajah, Lagos',\n",
       " 'Mopo Road , United Estate, Sangotedo, Ajah, Lagos',\n",
       " 'Ikate, Lekki, Lagos',\n",
       " 'Orchid Road, Ikota, Lekki, Lagos',\n",
       " 'Elepe Royal Estate, Behind General Hospital, Aga Via Solebo, Ebute, Ikorodu, Lagos',\n",
       " 'Nicon Town Estate By Ikate, Ikate Elegushi, Lekki, Lagos',\n",
       " 'Magodo, Lagos',\n",
       " 'Chevron 2nd Toll Gate, Lekki, Lagos',\n",
       " 'Olokonla, Ajah, Lagos',\n",
       " 'Ikota, Lekki, Lagos',\n",
       " 'Download our Mobile App']"
      ]
     },
     "execution_count": 52,
     "metadata": {},
     "output_type": "execute_result"
    }
   ],
   "source": [
    "#locations_list = []\n",
    "#for location in locations:\n",
    "#    locations_list.append(location.get_text().strip())\n",
    "#locations_list[0]\n",
    "\n",
    "locations_list = []\n",
    "for location in locations:\n",
    "    location = soup.findAll('address', {'class':'voffset-bottom-10'})\n",
    "    location = [e.get_text().strip() for e in locations]\n",
    "    locations_list.append(location)\n",
    "locations_list[0] "
   ]
  },
  {
   "cell_type": "code",
   "execution_count": 11,
   "metadata": {},
   "outputs": [
    {
     "data": {
      "text/plain": [
       "21"
      ]
     },
     "execution_count": 11,
     "metadata": {},
     "output_type": "execute_result"
    }
   ],
   "source": [
    "len(locations_list)"
   ]
  },
  {
   "cell_type": "code",
   "execution_count": 12,
   "metadata": {},
   "outputs": [],
   "source": [
    "prices = soup.select('.pull-sm-left')"
   ]
  },
  {
   "cell_type": "code",
   "execution_count": 13,
   "metadata": {},
   "outputs": [
    {
     "data": {
      "text/plain": [
       "2500000"
      ]
     },
     "execution_count": 13,
     "metadata": {},
     "output_type": "execute_result"
    }
   ],
   "source": [
    "prices_list = []\n",
    "for price in prices:\n",
    "    obj = price.get_text().strip().split()[0][1:]\n",
    "    obj = obj.replace(',', '')\n",
    "    obj = int(obj)\n",
    "    prices_list.append(obj)\n",
    "prices_list[0]"
   ]
  },
  {
   "cell_type": "code",
   "execution_count": 14,
   "metadata": {},
   "outputs": [],
   "source": [
    "advertisers = soup.select('.marketed-by.pull-right.hidden-xs.hidden-sm.text-right')"
   ]
  },
  {
   "cell_type": "code",
   "execution_count": 22,
   "metadata": {},
   "outputs": [
    {
     "name": "stdout",
     "output_type": "stream",
     "text": [
      "['Kieles']\n",
      "['Diamondedge']\n",
      "['Streetgold']\n",
      "['Bez_emergeinvestment']\n",
      "['Flocisco']\n",
      "['Olumide']\n",
      "['Landuna']\n",
      "['Golden']\n",
      "['Golden']\n",
      "['Toramu']\n",
      "['Toramu']\n",
      "['Real']\n",
      "['S']\n",
      "['Barosys']\n",
      "['Prince']\n",
      "['Prince']\n",
      "['Safeguide']\n",
      "['Fortrexton']\n",
      "['Elderkay']\n",
      "['Fortune']\n"
     ]
    },
    {
     "data": {
      "text/plain": [
       "['Kieles']"
      ]
     },
     "execution_count": 22,
     "metadata": {},
     "output_type": "execute_result"
    }
   ],
   "source": [
    "advertisers_list = []\n",
    "#advertisers_contact = []\n",
    "for advertiser in advertisers:\n",
    "    adv = advertiser.get_text().strip().split()[:1]\n",
    "    print(adv)\n",
    "    advertisers_list.append(adv)\n",
    "advertisers_list[0]\n",
    "\n",
    "# I found it difficult splitting this into Adv_list and Adv_contact"
   ]
  },
  {
   "cell_type": "code",
   "execution_count": 134,
   "metadata": {},
   "outputs": [],
   "source": [
    "# bathrooms, parking spaces and toilets are..."
   ]
  },
  {
   "cell_type": "code",
   "execution_count": null,
   "metadata": {},
   "outputs": [],
   "source": []
  },
  {
   "cell_type": "code",
   "execution_count": 24,
   "metadata": {},
   "outputs": [],
   "source": [
    "def rent(urls):\n",
    "    r = requests.get(urls)\n",
    "    soup = BeautifulSoup(r.text, 'lxml')\n",
    "    \n",
    "    titles = soup.select('.content-title')\n",
    "    titles_list = []\n",
    "    for title in titles:\n",
    "        titles_list.append(title.get_text())\n",
    "\n",
    "    locations = soup.select('.voffset-bottom-10')\n",
    "    locations_list = []\n",
    "    for location in locations:\n",
    "        locations_list.append(location.get_text().strip())\n",
    "\n",
    "    prices = soup.select('.pull-sm-left')\n",
    "    prices_list = []\n",
    "    for price in prices:\n",
    "        obj = price.get_text().strip().split()[0][1:]\n",
    "        obj = obj.replace(',', '')\n",
    "        obj = int(obj)\n",
    "        prices_list.append(obj)\n",
    "\n",
    "    advertisers = soup.select('.marketed-by.pull-right.hidden-xs.hidden-sm.text-right')\n",
    "    advertisers_list = []\n",
    "    #advertisers_contact = []\n",
    "    for advertiser in advertisers:\n",
    "        adv = advertiser.get_text().strip().split()[:1]\n",
    "        advertisers_list.append(adv)\n",
    "    \n",
    "    return titles_list, locations_list, prices_list, advertisers_list\n",
    "# I found it difficult splitting this into Adv_list and Adv_contact"
   ]
  },
  {
   "cell_type": "markdown",
   "metadata": {},
   "source": [
    "url = \"https://nigeriapropertycentre.com/for-rent/flats-apartments/lagos?bedrooms=2&q=for-rent+flats-apartments+lagos+2+bedrooms\"\n",
    "url = \"https://nigeriapropertycentre.com/for-rent/flats-apartments/lagos/showtype?bedrooms=2\"\n",
    "&page=2 to &page=110"
   ]
  },
  {
   "cell_type": "code",
   "execution_count": 25,
   "metadata": {},
   "outputs": [],
   "source": [
    "base_url = \"https://nigeriapropertycentre.com/for-rent/flats-apartments/lagos/showtype?bedrooms=2\"\n",
    "urls = []\n",
    "for i in range(1, 111):\n",
    "    url = base_url + '&page=' + str(i)\n",
    "    urls.append(url)"
   ]
  },
  {
   "cell_type": "code",
   "execution_count": null,
   "metadata": {},
   "outputs": [],
   "source": []
  },
  {
   "cell_type": "code",
   "execution_count": 26,
   "metadata": {},
   "outputs": [],
   "source": [
    "titles, locations, prices, advertisers = [], [], [], []\n",
    "for url in urls:\n",
    "    #titles_list, locations_list, prices_list, advertisers_list = rent(urls)\n",
    "    titles += titles_list\n",
    "    locations += locations_list\n",
    "    prices += prices_list\n",
    "    advertisers += advertisers_list\n",
    "    \n",
    "time.sleep(30)"
   ]
  },
  {
   "cell_type": "code",
   "execution_count": 201,
   "metadata": {},
   "outputs": [
    {
     "data": {
      "text/plain": [
       "2220"
      ]
     },
     "execution_count": 201,
     "metadata": {},
     "output_type": "execute_result"
    }
   ],
   "source": [
    "len(titles)"
   ]
  },
  {
   "cell_type": "code",
   "execution_count": 27,
   "metadata": {},
   "outputs": [],
   "source": [
    "rentage = ({\"title\": titles, \n",
    "                         \"location\": locations,\n",
    "                       \"price\": prices,\n",
    "                       \"advertiser\": advertisers})\n",
    "\n",
    "rentals = pd.DataFrame.from_dict(rentage, orient='index')"
   ]
  },
  {
   "cell_type": "code",
   "execution_count": 28,
   "metadata": {},
   "outputs": [],
   "source": [
    "rentals.to_csv('lagos_rent.csv')"
   ]
  },
  {
   "cell_type": "code",
   "execution_count": 29,
   "metadata": {},
   "outputs": [
    {
     "data": {
      "text/plain": [
       "2200"
      ]
     },
     "execution_count": 29,
     "metadata": {},
     "output_type": "execute_result"
    }
   ],
   "source": [
    "len(advertisers)"
   ]
  },
  {
   "cell_type": "code",
   "execution_count": 30,
   "metadata": {},
   "outputs": [
    {
     "data": {
      "text/plain": [
       "2310"
      ]
     },
     "execution_count": 30,
     "metadata": {},
     "output_type": "execute_result"
    }
   ],
   "source": [
    "len(locations)"
   ]
  },
  {
   "cell_type": "code",
   "execution_count": null,
   "metadata": {},
   "outputs": [],
   "source": []
  }
 ],
 "metadata": {
  "kernelspec": {
   "display_name": "Python 3",
   "language": "python",
   "name": "python3"
  },
  "language_info": {
   "codemirror_mode": {
    "name": "ipython",
    "version": 3
   },
   "file_extension": ".py",
   "mimetype": "text/x-python",
   "name": "python",
   "nbconvert_exporter": "python",
   "pygments_lexer": "ipython3",
   "version": "3.7.6"
  }
 },
 "nbformat": 4,
 "nbformat_minor": 4
}
