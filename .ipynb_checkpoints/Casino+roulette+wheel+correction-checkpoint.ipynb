{
 "cells": [
  {
   "cell_type": "code",
   "execution_count": 1,
   "metadata": {},
   "outputs": [
    {
     "name": "stdout",
     "output_type": "stream",
     "text": [
      "Welcome !!\n",
      "You have 1000 €. Good luck !\n",
      "\n",
      "______________________________\n",
      "On which number do you want to bet ?8\n",
      "How much do you want to bet on this number ?400\n",
      "\n",
      "The number output is 21\n",
      "Sorry but you lost, try again !\n",
      "\n",
      "You now have 600 € left\n",
      "\n",
      "______________________________\n",
      "On which number do you want to bet ?50\n",
      "You have to bet a number between 0 and 49\n",
      "So, on which number do you want to bet ?21\n",
      "How much do you want to bet on this number ?400\n",
      "\n",
      "The number output is 20\n",
      "Sorry but you lost, try again !\n",
      "\n",
      "You now have 200 € left\n",
      "\n",
      "______________________________\n",
      "On which number do you want to bet ?20\n",
      "How much do you want to bet on this number ?400\n",
      "You can't bet that with your current amount of money !!\n",
      "So, how much do you want to bet on this number ?200\n",
      "\n",
      "The number output is 25\n",
      "Sorry but you lost, try again !\n",
      "\n",
      "You now have 0 € left\n",
      "Sorry but you don't have enough money to continue !\n",
      "The game is now ending !\n"
     ]
    }
   ],
   "source": [
    "from random import randint\n",
    "\n",
    "# Déclaration des variables de départ\n",
    "money = 1000\n",
    "continueGame = True\n",
    "\n",
    "print('Welcome !!\\nYou have', money, '€. Good luck !')\n",
    "\n",
    "while continueGame:\n",
    "    print('\\n______________________________')\n",
    "    numberBet = int(input('On which number do you want to bet ?'))\n",
    "    while numberBet > 49 or numberBet < 0:\n",
    "        print(\"You have to bet a number between 0 and 49\")\n",
    "        numberBet = int(input('So, on which number do you want to bet ?'))\n",
    "    \n",
    "    amountBet = int(input('How much do you want to bet on this number ?'))\n",
    "    while amountBet > money or amountBet < 1:\n",
    "        print(\"You can't bet that with your current amount of money !!\")\n",
    "        amountBet = int(input('So, how much do you want to bet on this number ?'))\n",
    "    \n",
    "    numberOutput = randint(0, 49) # line to use to generate a random number between 0 and 49\n",
    "    print('\\nThe number output is', numberOutput)\n",
    "    \n",
    "    if numberBet == numberOutput:\n",
    "        money += 50*amountBet\n",
    "        print('Congratulation !! You won', 50*amountBet, '€')\n",
    "    else:\n",
    "        money -= amountBet\n",
    "        print('Sorry but you lost, try again !')\n",
    "    print('\\nYou now have', money, '€ left')\n",
    "        \n",
    "    if money == 0:\n",
    "        continueGame = False\n",
    "        print(\"Sorry but you don't have enough money to continue !\\nThe game is now ending !\")  \n"
   ]
  },
  {
   "cell_type": "code",
   "execution_count": null,
   "metadata": {},
   "outputs": [],
   "source": []
  },
  {
   "cell_type": "code",
   "execution_count": null,
   "metadata": {},
   "outputs": [],
   "source": []
  },
  {
   "cell_type": "code",
   "execution_count": null,
   "metadata": {},
   "outputs": [],
   "source": []
  },
  {
   "cell_type": "code",
   "execution_count": null,
   "metadata": {},
   "outputs": [],
   "source": []
  },
  {
   "cell_type": "code",
   "execution_count": null,
   "metadata": {},
   "outputs": [],
   "source": []
  },
  {
   "cell_type": "code",
   "execution_count": null,
   "metadata": {},
   "outputs": [],
   "source": []
  },
  {
   "cell_type": "code",
   "execution_count": null,
   "metadata": {},
   "outputs": [],
   "source": []
  },
  {
   "cell_type": "code",
   "execution_count": null,
   "metadata": {},
   "outputs": [],
   "source": []
  },
  {
   "cell_type": "code",
   "execution_count": null,
   "metadata": {},
   "outputs": [],
   "source": []
  },
  {
   "cell_type": "code",
   "execution_count": null,
   "metadata": {},
   "outputs": [],
   "source": []
  },
  {
   "cell_type": "code",
   "execution_count": null,
   "metadata": {},
   "outputs": [],
   "source": []
  },
  {
   "cell_type": "code",
   "execution_count": null,
   "metadata": {},
   "outputs": [],
   "source": []
  },
  {
   "cell_type": "code",
   "execution_count": null,
   "metadata": {},
   "outputs": [],
   "source": []
  },
  {
   "cell_type": "code",
   "execution_count": null,
   "metadata": {},
   "outputs": [],
   "source": []
  },
  {
   "cell_type": "code",
   "execution_count": null,
   "metadata": {},
   "outputs": [],
   "source": []
  },
  {
   "cell_type": "code",
   "execution_count": null,
   "metadata": {},
   "outputs": [],
   "source": []
  }
 ],
 "metadata": {
  "kernelspec": {
   "display_name": "Python 3",
   "language": "python",
   "name": "python3"
  },
  "language_info": {
   "codemirror_mode": {
    "name": "ipython",
    "version": 3
   },
   "file_extension": ".py",
   "mimetype": "text/x-python",
   "name": "python",
   "nbconvert_exporter": "python",
   "pygments_lexer": "ipython3",
   "version": "3.6.5"
  },
  "toc": {
   "base_numbering": 1,
   "nav_menu": {},
   "number_sections": true,
   "sideBar": true,
   "skip_h1_title": false,
   "title_cell": "Table of Contents",
   "title_sidebar": "Contents",
   "toc_cell": false,
   "toc_position": {},
   "toc_section_display": true,
   "toc_window_display": false
  }
 },
 "nbformat": 4,
 "nbformat_minor": 2
}
