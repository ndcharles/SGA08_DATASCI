{
 "cells": [
  {
   "cell_type": "code",
   "execution_count": 57,
   "metadata": {},
   "outputs": [],
   "source": [
    "import requests\n",
    "from bs4 import BeautifulSoup\n",
    "import pandas as pd\n",
    "import time"
   ]
  },
  {
   "cell_type": "code",
   "execution_count": 2,
   "metadata": {},
   "outputs": [],
   "source": [
    "base_url = \"https://www.propertypro.ng/property-for-short-let\"\n",
    "headers = {'User-Agent': 'Mozilla/5.0 (Linux; Android 6.0; Nexus 5 Build/MRA58N) AppleWebKit/537.36 (KHTML, like Gecko) Chrome/83.0.4103.106 Mobile Safari/537.36'}"
   ]
  },
  {
   "cell_type": "code",
   "execution_count": 6,
   "metadata": {},
   "outputs": [
    {
     "data": {
      "text/plain": [
       "200"
      ]
     },
     "execution_count": 6,
     "metadata": {},
     "output_type": "execute_result"
    }
   ],
   "source": [
    "response = requests.get(base_url, headers=headers)\n",
    "response.status_code\n",
    "# response.text"
   ]
  },
  {
   "cell_type": "code",
   "execution_count": 8,
   "metadata": {
    "tags": []
   },
   "outputs": [
    {
     "name": "stdout",
     "output_type": "stream",
     "text": [
      "Short let property  (1,774 listings) | PropertyPro.ng\n"
     ]
    }
   ],
   "source": [
    "soup = BeautifulSoup(response.text, 'html.parser')\n",
    "print(soup.title.get_text())"
   ]
  },
  {
   "cell_type": "code",
   "execution_count": 9,
   "metadata": {},
   "outputs": [
    {
     "data": {
      "text/plain": [
       "20"
      ]
     },
     "execution_count": 9,
     "metadata": {},
     "output_type": "execute_result"
    }
   ],
   "source": [
    "titles = soup.select('.pro-main-cont > a > h2')\n",
    "len(titles)"
   ]
  },
  {
   "cell_type": "code",
   "execution_count": 11,
   "metadata": {
    "tags": []
   },
   "outputs": [
    {
     "data": {
      "text/plain": [
       "'3 BEDROOM FLAT / APARTMENT FOR SHORTLET - OLD IKOYI IKOYI LAGOS'"
      ]
     },
     "execution_count": 11,
     "metadata": {},
     "output_type": "execute_result"
    }
   ],
   "source": [
    "titles_list = []\n",
    "for title in titles:\n",
    "    titles_list.append(title.get_text())\n",
    "titles_list[1]"
   ]
  },
  {
   "cell_type": "code",
   "execution_count": 12,
   "metadata": {},
   "outputs": [
    {
     "data": {
      "text/plain": [
       "40"
      ]
     },
     "execution_count": 12,
     "metadata": {},
     "output_type": "execute_result"
    }
   ],
   "source": [
    "prices = soup.select('.pro-main-cont > p > span')\n",
    "len(prices)"
   ]
  },
  {
   "cell_type": "code",
   "execution_count": 13,
   "metadata": {
    "tags": []
   },
   "outputs": [
    {
     "data": {
      "text/plain": [
       "'45000.0'"
      ]
     },
     "execution_count": 13,
     "metadata": {},
     "output_type": "execute_result"
    }
   ],
   "source": [
    "prices_list = []\n",
    "for i, price in enumerate(prices):\n",
    "    if i % 2 == 1:\n",
    "        prices_list.append(price.get(\"content\"))\n",
    "prices_list[0]        "
   ]
  },
  {
   "cell_type": "code",
   "execution_count": 14,
   "metadata": {},
   "outputs": [],
   "source": [
    "locations = soup.select('.pro-location')\n",
    "\n",
    "locations_list = []\n",
    "for location in locations:\n",
    "    locations_list.append(location.get_text())"
   ]
  },
  {
   "cell_type": "code",
   "execution_count": 15,
   "metadata": {},
   "outputs": [],
   "source": [
    "property = pd.DataFrame({\"title\": titles_list, \n",
    "                         \"price\": prices_list,\n",
    "                         \"location\": locations_list})"
   ]
  },
  {
   "cell_type": "code",
   "execution_count": 16,
   "metadata": {},
   "outputs": [],
   "source": [
    "property.to_csv(\"property.csv\")"
   ]
  },
  {
   "cell_type": "code",
   "execution_count": 47,
   "metadata": {},
   "outputs": [],
   "source": [
    "def scrape_page(url):\n",
    "    \"\"\"\n",
    "        Argument: url -> of the website we want to scrape\n",
    "        Output: (titles_list, prices_list, locations_list)\n",
    "    \"\"\"\n",
    "    r = requests.get(base_url, headers=headers)\n",
    "    soup = BeautifulSoup(r.text, 'html.parser')\n",
    "\n",
    "    titles = soup.select('.pro-main-cont > a > h2')\n",
    "    titles_list = []\n",
    "    for title in titles:\n",
    "        titles_list.append(title.get_text())\n",
    "\n",
    "    prices = soup.select('.pro-main-cont > p > span')\n",
    "    prices_list = []\n",
    "    for i, price in enumerate(prices):\n",
    "        if i % 2 != 0:\n",
    "            prices_list.append(price.get(\"content\"))\n",
    "    \n",
    "    locations = soup.select('.pro-location')\n",
    "    locations_list = []\n",
    "    for location in locations:\n",
    "        locations_list.append(location.get_text())\n",
    "    \n",
    "    return titles_list, prices_list, locations_list"
   ]
  },
  {
   "cell_type": "code",
   "execution_count": 43,
   "metadata": {
    "tags": []
   },
   "outputs": [],
   "source": [
    "# urls = [\"https://www.propertypro.ng/property-for-short-let\", \"https://www.propertypro.ng/property-for-short-let?page=1\",\n",
    "# \"https://www.propertypro.ng/property-for-short-let?page=2\",\n",
    "# ........, \"https://www.propertypro.ng/property-for-short-let?page=44\"]\n",
    "\n",
    "base_url = \"https://www.propertypro.ng/property-for-short-let\"\n",
    "urls = [base_url]\n",
    "for i in range(1,45):\n",
    "    url = base_url + \"?page=\" + str(i)\n",
    "    urls.append(url)"
   ]
  },
  {
   "cell_type": "code",
   "execution_count": 46,
   "metadata": {},
   "outputs": [
    {
     "data": {
      "text/plain": [
       "'https://www.propertypro.ng/property-for-short-let?page=44'"
      ]
     },
     "execution_count": 46,
     "metadata": {},
     "output_type": "execute_result"
    }
   ],
   "source": [
    "urls[44]"
   ]
  },
  {
   "cell_type": "code",
   "execution_count": 51,
   "metadata": {},
   "outputs": [],
   "source": [
    "master_titles, master_prices, master_locations = [], [], []\n",
    "for url in urls:\n",
    "    titles_list, prices_list, locations_list = scrape_page(url)\n",
    "    master_titles += titles_list\n",
    "    master_prices += prices_list\n",
    "    master_locations += locations_list\n",
    "    \"\"\"\n",
    "Prevent DOS attack by resting a bit\n",
    "Advance usage : Also rotate proxies with this tutorial \n",
    "https://www.scrapehero.comhow-to-rotate-proxies-and-ip-addresses-using-python-3/\n",
    "    \"\"\"\n",
    "    time.sleep(30)\n"
   ]
  },
  {
   "cell_type": "code",
   "execution_count": 54,
   "metadata": {},
   "outputs": [
    {
     "data": {
      "text/plain": [
       "900"
      ]
     },
     "execution_count": 54,
     "metadata": {},
     "output_type": "execute_result"
    }
   ],
   "source": [
    "len(master_locations)"
   ]
  },
  {
   "cell_type": "code",
   "execution_count": 55,
   "metadata": {},
   "outputs": [],
   "source": [
    "property = pd.DataFrame({\"title\": master_titles, \n",
    "                         \"price\": master_prices,\n",
    "                         \"location\": master_locations})"
   ]
  },
  {
   "cell_type": "code",
   "execution_count": 56,
   "metadata": {},
   "outputs": [],
   "source": [
    "property.to_csv(\"property.csv\")"
   ]
  },
  {
   "cell_type": "code",
   "execution_count": null,
   "metadata": {},
   "outputs": [],
   "source": []
  }
 ],
 "metadata": {
  "kernelspec": {
   "display_name": "Python 3",
   "language": "python",
   "name": "python3"
  },
  "language_info": {
   "codemirror_mode": {
    "name": "ipython",
    "version": 3
   },
   "file_extension": ".py",
   "mimetype": "text/x-python",
   "name": "python",
   "nbconvert_exporter": "python",
   "pygments_lexer": "ipython3",
   "version": "3.7.6"
  }
 },
 "nbformat": 4,
 "nbformat_minor": 4
}
