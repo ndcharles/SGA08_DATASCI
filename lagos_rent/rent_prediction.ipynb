{
 "cells": [
  {
   "cell_type": "markdown",
   "metadata": {},
   "source": [
    "# Linear Regression on Lagos Rent Data\n",
    "\n",
    "Below is a linear regression on Lagos rent data. Data was gathered from this [url](https://nigeriapropertycentre.com/for-rent/flats-apartments/lagos/showtype?bedrooms=2). On the site the following filter was applied:\n",
    "* House type: 2 bedroom apartment\n",
    "* Location: Lagos\n",
    "* Acquisition style: Rent\n",
    "\n",
    "Further reports at the end of the analysis."
   ]
  },
  {
   "cell_type": "code",
   "execution_count": 1,
   "metadata": {},
   "outputs": [],
   "source": [
    "import pandas as pd\n",
    "import numpy as np\n",
    "import matplotlib.pyplot as plt\n",
    "import seaborn as sns"
   ]
  },
  {
   "cell_type": "code",
   "execution_count": 2,
   "metadata": {},
   "outputs": [],
   "source": [
    "pred = pd.read_csv('lagos_book1.csv')"
   ]
  },
  {
   "cell_type": "code",
   "execution_count": 3,
   "metadata": {},
   "outputs": [
    {
     "data": {
      "text/html": [
       "<div>\n",
       "<style scoped>\n",
       "    .dataframe tbody tr th:only-of-type {\n",
       "        vertical-align: middle;\n",
       "    }\n",
       "\n",
       "    .dataframe tbody tr th {\n",
       "        vertical-align: top;\n",
       "    }\n",
       "\n",
       "    .dataframe thead th {\n",
       "        text-align: right;\n",
       "    }\n",
       "</style>\n",
       "<table border=\"1\" class=\"dataframe\">\n",
       "  <thead>\n",
       "    <tr style=\"text-align: right;\">\n",
       "      <th></th>\n",
       "      <th>title</th>\n",
       "      <th>location</th>\n",
       "      <th>price</th>\n",
       "      <th>advertiser</th>\n",
       "    </tr>\n",
       "  </thead>\n",
       "  <tbody>\n",
       "    <tr>\n",
       "      <th>0</th>\n",
       "      <td>Luxury 2 Bedroom Apartment With Excellent Faci...</td>\n",
       "      <td>Lekki</td>\n",
       "      <td>2000000</td>\n",
       "      <td>['Real']</td>\n",
       "    </tr>\n",
       "    <tr>\n",
       "      <th>1</th>\n",
       "      <td>Nicely Built 24 Hours 2 Bedroom Flat</td>\n",
       "      <td>Lekki</td>\n",
       "      <td>3000000</td>\n",
       "      <td>['Joe']</td>\n",
       "    </tr>\n",
       "    <tr>\n",
       "      <th>2</th>\n",
       "      <td>Brand New Serviced 2-bedroom Flat</td>\n",
       "      <td>Lekki</td>\n",
       "      <td>1800000</td>\n",
       "      <td>['Joe']</td>\n",
       "    </tr>\n",
       "    <tr>\n",
       "      <th>3</th>\n",
       "      <td>Well Built To Taste 2 Bedrooms</td>\n",
       "      <td>Ajah</td>\n",
       "      <td>900000</td>\n",
       "      <td>['Elderkay']</td>\n",
       "    </tr>\n",
       "    <tr>\n",
       "      <th>4</th>\n",
       "      <td>Tastefully Finished One (2) Bedroom Flat</td>\n",
       "      <td>Ikeja</td>\n",
       "      <td>2000000</td>\n",
       "      <td>['Leeward']</td>\n",
       "    </tr>\n",
       "  </tbody>\n",
       "</table>\n",
       "</div>"
      ],
      "text/plain": [
       "                                               title location    price  \\\n",
       "0  Luxury 2 Bedroom Apartment With Excellent Faci...    Lekki  2000000   \n",
       "1               Nicely Built 24 Hours 2 Bedroom Flat    Lekki  3000000   \n",
       "2                  Brand New Serviced 2-bedroom Flat    Lekki  1800000   \n",
       "3                     Well Built To Taste 2 Bedrooms     Ajah   900000   \n",
       "4           Tastefully Finished One (2) Bedroom Flat    Ikeja  2000000   \n",
       "\n",
       "     advertiser  \n",
       "0      ['Real']  \n",
       "1       ['Joe']  \n",
       "2       ['Joe']  \n",
       "3  ['Elderkay']  \n",
       "4   ['Leeward']  "
      ]
     },
     "execution_count": 3,
     "metadata": {},
     "output_type": "execute_result"
    }
   ],
   "source": [
    "pred.head()"
   ]
  },
  {
   "cell_type": "code",
   "execution_count": 4,
   "metadata": {},
   "outputs": [
    {
     "data": {
      "text/plain": [
       "array(['Lekki', 'Ajah', 'Ikeja', 'Yaba', 'Agege', 'Alimosho', 'Isolo',\n",
       "       'Magodo', 'Ibeju', 'Ikorodu', 'Ikoyi', 'VI', 'Ketu', 'Ojo',\n",
       "       'Gbagada', 'Surulere', 'Shomolu', 'Berger', 'Ojota'], dtype=object)"
      ]
     },
     "execution_count": 4,
     "metadata": {},
     "output_type": "execute_result"
    }
   ],
   "source": [
    "pred.location.unique()"
   ]
  },
  {
   "cell_type": "code",
   "execution_count": 5,
   "metadata": {},
   "outputs": [
    {
     "data": {
      "text/plain": [
       "count       999\n",
       "unique       19\n",
       "top       Lekki\n",
       "freq        355\n",
       "Name: location, dtype: object"
      ]
     },
     "execution_count": 5,
     "metadata": {},
     "output_type": "execute_result"
    }
   ],
   "source": [
    "pred.location.describe()"
   ]
  },
  {
   "cell_type": "code",
   "execution_count": 6,
   "metadata": {},
   "outputs": [
    {
     "data": {
      "text/html": [
       "<div>\n",
       "<style scoped>\n",
       "    .dataframe tbody tr th:only-of-type {\n",
       "        vertical-align: middle;\n",
       "    }\n",
       "\n",
       "    .dataframe tbody tr th {\n",
       "        vertical-align: top;\n",
       "    }\n",
       "\n",
       "    .dataframe thead th {\n",
       "        text-align: right;\n",
       "    }\n",
       "</style>\n",
       "<table border=\"1\" class=\"dataframe\">\n",
       "  <thead>\n",
       "    <tr style=\"text-align: right;\">\n",
       "      <th></th>\n",
       "      <th>price</th>\n",
       "    </tr>\n",
       "  </thead>\n",
       "  <tbody>\n",
       "    <tr>\n",
       "      <th>count</th>\n",
       "      <td>9.990000e+02</td>\n",
       "    </tr>\n",
       "    <tr>\n",
       "      <th>mean</th>\n",
       "      <td>1.934499e+06</td>\n",
       "    </tr>\n",
       "    <tr>\n",
       "      <th>std</th>\n",
       "      <td>2.329891e+06</td>\n",
       "    </tr>\n",
       "    <tr>\n",
       "      <th>min</th>\n",
       "      <td>1.000000e+05</td>\n",
       "    </tr>\n",
       "    <tr>\n",
       "      <th>25%</th>\n",
       "      <td>7.500000e+05</td>\n",
       "    </tr>\n",
       "    <tr>\n",
       "      <th>50%</th>\n",
       "      <td>1.200000e+06</td>\n",
       "    </tr>\n",
       "    <tr>\n",
       "      <th>75%</th>\n",
       "      <td>2.000000e+06</td>\n",
       "    </tr>\n",
       "    <tr>\n",
       "      <th>max</th>\n",
       "      <td>2.200000e+07</td>\n",
       "    </tr>\n",
       "  </tbody>\n",
       "</table>\n",
       "</div>"
      ],
      "text/plain": [
       "              price\n",
       "count  9.990000e+02\n",
       "mean   1.934499e+06\n",
       "std    2.329891e+06\n",
       "min    1.000000e+05\n",
       "25%    7.500000e+05\n",
       "50%    1.200000e+06\n",
       "75%    2.000000e+06\n",
       "max    2.200000e+07"
      ]
     },
     "execution_count": 6,
     "metadata": {},
     "output_type": "execute_result"
    }
   ],
   "source": [
    "pred.describe()"
   ]
  },
  {
   "cell_type": "code",
   "execution_count": 7,
   "metadata": {},
   "outputs": [
    {
     "data": {
      "image/png": "[encoded data removed]",
      "text/plain": [
       "<Figure size 864x648 with 1 Axes>"
      ]
     },
     "metadata": {
      "needs_background": "light"
     },
     "output_type": "display_data"
    }
   ],
   "source": [
    "# visualising the data\n",
    "plt.figure(figsize=(12,9))\n",
    "plt.hist(pred.location)\n",
    "plt.xticks(rotation=45)\n",
    "plt.show()"
   ]
  },
  {
   "cell_type": "code",
   "execution_count": 8,
   "metadata": {},
   "outputs": [
    {
     "data": {
      "image/png": "[encoded data removed]",
      "text/plain": [
       "<Figure size 720x576 with 1 Axes>"
      ]
     },
     "metadata": {
      "needs_background": "light"
     },
     "output_type": "display_data"
    }
   ],
   "source": [
    "# creating a regression plot\n",
    "#Plotting Regplot with Seaborn\n",
    "plt.figure(figsize = (10,8))\n",
    "sns.regplot(pred.location, pred.price, fit_reg=False)\n",
    "plt.xticks(rotation=45)\n",
    "plt.title('Location vs. Rental Price', fontsize = 20)\n",
    "plt.show()"
   ]
  },
  {
   "cell_type": "code",
   "execution_count": 10,
   "metadata": {},
   "outputs": [],
   "source": [
    "from sklearn.linear_model import LinearRegression\n",
    "from sklearn.model_selection import train_test_split\n",
    "from sklearn.preprocessing import MultiLabelBinarizer"
   ]
  },
  {
   "cell_type": "code",
   "execution_count": 15,
   "metadata": {},
   "outputs": [],
   "source": [
    "X = np.array(pred.location)\n",
    "y = np.array(pred.price)\n",
    "\n",
    "# Create MultiLabelBinarizer object\n",
    "one_hot = MultiLabelBinarizer()\n",
    "\n",
    "# One-hot encode data\n",
    "X = one_hot.fit_transform(X)"
   ]
  },
  {
   "cell_type": "code",
   "execution_count": 17,
   "metadata": {},
   "outputs": [],
   "source": [
    "model = LinearRegression(fit_intercept=True)"
   ]
  },
  {
   "cell_type": "code",
   "execution_count": 29,
   "metadata": {},
   "outputs": [
    {
     "name": "stdout",
     "output_type": "stream",
     "text": [
      "[[0 0 0 ... 0 0 0]\n",
      " [0 0 0 ... 0 0 0]\n",
      " [0 0 0 ... 0 0 0]\n",
      " ...\n",
      " [1 0 0 ... 0 0 0]\n",
      " [1 0 0 ... 0 0 0]\n",
      " [0 0 0 ... 0 0 0]]\n"
     ]
    }
   ],
   "source": [
    "print(X)"
   ]
  },
  {
   "cell_type": "code",
   "execution_count": 18,
   "metadata": {},
   "outputs": [
    {
     "data": {
      "text/plain": [
       "LinearRegression(copy_X=True, fit_intercept=True, n_jobs=None, normalize=False)"
      ]
     },
     "execution_count": 18,
     "metadata": {},
     "output_type": "execute_result"
    }
   ],
   "source": [
    "X_train, X_test, y_train, y_test = train_test_split(X, y, test_size=0.2, random_state=20)\n",
    "model.fit(X_train, y_train)"
   ]
  },
  {
   "cell_type": "code",
   "execution_count": 22,
   "metadata": {},
   "outputs": [
    {
     "data": {
      "text/plain": [
       "0.7165045925625498"
      ]
     },
     "execution_count": 22,
     "metadata": {},
     "output_type": "execute_result"
    }
   ],
   "source": [
    "model.score(X_test, y_test)"
   ]
  },
  {
   "cell_type": "code",
   "execution_count": 23,
   "metadata": {},
   "outputs": [
    {
     "name": "stdout",
     "output_type": "stream",
     "text": [
      "[-1.37530968e+19 -3.11237003e+19  6.17101169e+18  8.54724302e+19\n",
      " -2.01463470e+19  1.96486625e+19  4.08558376e+19  7.17420491e+19\n",
      "  9.82640013e+18 -1.42231291e+20  1.02410066e+19 -1.18026931e+19\n",
      " -5.51971745e+19  2.36465171e+19 -2.34292420e+19 -1.95765222e+19\n",
      "  7.41583852e+18  1.54021650e+19 -3.86189096e+19 -6.83804464e+19\n",
      " -3.55406576e+19  7.64075234e+19 -8.98820004e+19  1.73706035e+19\n",
      " -1.68086331e+19  1.18026931e+19 -2.49859650e+19  6.28990657e+17]\n",
      "5.675886093889687e+19\n"
     ]
    }
   ],
   "source": [
    "print(model.coef_)\n",
    "print(model.intercept_)"
   ]
  },
  {
   "cell_type": "code",
   "execution_count": 24,
   "metadata": {},
   "outputs": [
    {
     "data": {
      "text/plain": [
       "array([ 286720.,  868352., 2031616., 2031616.,  704512., 7749632.,\n",
       "       1523712.,  868352.,  286720., 2031616., 1523712., 2031616.,\n",
       "        360448.,  704512.,  983040., 3620864., 2031616.,  360448.,\n",
       "        983040., 3620864.,  868352.,  704512.,  868352., 1523712.,\n",
       "       2031616., 2031616.,  983040., 2031616., 2031616.,  868352.,\n",
       "        868352., 2031616.,  704512.,  286720., 7749632.,  868352.,\n",
       "       1302528.,  557056., 2031616., 1007616., 2031616.,  868352.,\n",
       "        450560.,  532480., 2031616., 2031616.,  811008., 2031616.,\n",
       "        704512., 1302528., 2031616., 2031616., 2031616., 2031616.,\n",
       "        868352., 7749632., 1081344.,  868352., 2031616., 2031616.,\n",
       "        286720., 2031616., 1081344.,  868352., 2031616., 2031616.,\n",
       "       2031616., 1302528.,  360448., 3620864.,  868352., 2031616.,\n",
       "        868352.,  868352., 3620864.,  868352., 2031616., 2031616.,\n",
       "       2031616., 2031616.,  704512., 2031616.,  868352., 2031616.,\n",
       "        868352., 2031616., 2031616.,  704512.,  868352.,  868352.,\n",
       "       1302528.,  868352.,  131072., 2031616., 2031616., 2031616.,\n",
       "       3620864., 2031616.,  868352., 2031616.,  868352.,  868352.,\n",
       "       2031616., 1523712.,  983040., 2031616., 2031616.,  294912.,\n",
       "       2031616., 2031616.,  868352., 2031616.,  868352., 1523712.,\n",
       "       2031616.,  286720., 2031616., 7749632., 2031616., 2031616.,\n",
       "       2031616.,  868352., 2031616., 3620864., 7749632.,  286720.,\n",
       "        868352.,  983040., 2031616.,  868352., 3620864., 2031616.,\n",
       "       2031616.,  868352., 1081344., 7749632., 1523712.,  286720.,\n",
       "       7749632., 2031616., 1523712., 7749632., 2031616., 1523712.,\n",
       "       3620864., 2031616.,  286720., 1081344.,  983040., 2031616.,\n",
       "       2031616.,  360448.,  868352., 3620864.,  983040., 7749632.,\n",
       "       2031616., 2031616.,  557056.,  704512., 1007616., 7749632.,\n",
       "       1007616.,  868352., 2031616.,  360448.,  532480., 1302528.,\n",
       "        868352.,  286720., 2031616., 2031616., 2031616., 2031616.,\n",
       "       1007616., 3620864.,  983040., 2031616.,  868352., 2031616.,\n",
       "       2031616., 3620864.,  286720.,  868352., 1523712., 2031616.,\n",
       "       2031616., 3620864., 1302528., 2031616.,  286720.,  131072.,\n",
       "       2031616., 7749632.,  868352., 2031616.,  868352.,  360448.,\n",
       "        868352.,  360448.])"
      ]
     },
     "execution_count": 24,
     "metadata": {},
     "output_type": "execute_result"
    }
   ],
   "source": [
    "model.predict(X_test)"
   ]
  },
  {
   "cell_type": "code",
   "execution_count": 42,
   "metadata": {},
   "outputs": [
    {
     "data": {
      "text/plain": [
       "0.6090414962202211"
      ]
     },
     "execution_count": 42,
     "metadata": {},
     "output_type": "execute_result"
    }
   ],
   "source": [
    "model.score(X_train, y_train)"
   ]
  },
  {
   "cell_type": "code",
   "execution_count": 44,
   "metadata": {},
   "outputs": [
    {
     "data": {
      "text/plain": [
       "array([-1.37530968e+19, -3.11237003e+19,  6.17101169e+18,  8.54724302e+19,\n",
       "       -2.01463470e+19,  1.96486625e+19,  4.08558376e+19,  7.17420491e+19,\n",
       "        9.82640013e+18, -1.42231291e+20,  1.02410066e+19, -1.18026931e+19,\n",
       "       -5.51971745e+19,  2.36465171e+19, -2.34292420e+19, -1.95765222e+19,\n",
       "        7.41583852e+18,  1.54021650e+19, -3.86189096e+19, -6.83804464e+19,\n",
       "       -3.55406576e+19,  7.64075234e+19, -8.98820004e+19,  1.73706035e+19,\n",
       "       -1.68086331e+19,  1.18026931e+19, -2.49859650e+19,  6.28990657e+17])"
      ]
     },
     "execution_count": 44,
     "metadata": {},
     "output_type": "execute_result"
    }
   ],
   "source": [
    "model.coef_"
   ]
  },
  {
   "cell_type": "code",
   "execution_count": 45,
   "metadata": {},
   "outputs": [
    {
     "data": {
      "text/plain": [
       "5.675886093889687e+19"
      ]
     },
     "execution_count": 45,
     "metadata": {},
     "output_type": "execute_result"
    }
   ],
   "source": [
    "model.intercept_"
   ]
  },
  {
   "cell_type": "markdown",
   "metadata": {},
   "source": [
    "### y = mx + c\n",
    "### y = coef * x + 5.67588\n",
    "\n",
    "**My coefficient turned out multiply weird because y is dependent on X. And my X turned out to be a categorical variable. When HotEncoded, I ended up with multiple values of X. Why 28 instead of just 19? (That's the next journey of me)**"
   ]
  },
  {
   "cell_type": "markdown",
   "metadata": {},
   "source": [
    "## What we have achieved:\n",
    "* Imported 1000 datasets on Lagos rent\n",
    "* Checked for unique locations in our locations\n",
    "* Described our dataset (there was no null data check and duplication because data was already preprocessed in excel)\n",
    "* Visualized the data to see what it looks like\n",
    "* Performed a regplot to display the spread of our data\n",
    "\n",
    "### For the LinearRegression:\n",
    "* Setup our model\n",
    "* Declare our variables\n",
    "* HotEncode our category variable\n",
    "* Fit our model\n",
    "* Train, test and get our coefficients."
   ]
  },
  {
   "cell_type": "code",
   "execution_count": null,
   "metadata": {},
   "outputs": [],
   "source": []
  }
 ],
 "metadata": {
  "kernelspec": {
   "display_name": "Python 3",
   "language": "python",
   "name": "python3"
  },
  "language_info": {
   "codemirror_mode": {
    "name": "ipython",
    "version": 3
   },
   "file_extension": ".py",
   "mimetype": "text/x-python",
   "name": "python",
   "nbconvert_exporter": "python",
   "pygments_lexer": "ipython3",
   "version": "3.7.6"
  }
 },
 "nbformat": 4,
 "nbformat_minor": 4
}
