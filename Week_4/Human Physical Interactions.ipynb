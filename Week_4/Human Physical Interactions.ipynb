{
 "cells": [
  {
   "cell_type": "code",
   "execution_count": 6,
   "metadata": {},
   "outputs": [],
   "source": [
    "measurement = {\"neck\": 10, \"shoulder\": 19, \"sleeve\": 26, \n",
    "               \"sleeve_round\": 10, \"chest\": 41, \"wrist\": 6,\n",
    "              \"top_waist\": 38, \"top_length\": 38, \"waist\": 33,\n",
    "              \"laps\": 26, \"laps_under_knee\": 18, \"length\": 42,\n",
    "              \"ankle\": 10, \"height\": 72, \"weight\": 70}"
   ]
  },
  {
   "cell_type": "code",
   "execution_count": 11,
   "metadata": {},
   "outputs": [
    {
     "name": "stdout",
     "output_type": "stream",
     "text": [
      "38\n"
     ]
    }
   ],
   "source": [
    "print(measurement[\"top_waist\"])"
   ]
  },
  {
   "cell_type": "code",
   "execution_count": 12,
   "metadata": {},
   "outputs": [],
   "source": [
    "more_measurement = {\"WHR\": 0.95, \"waist_circumference\": 95.5,\n",
    "                   \"BMI\": 26.4, \"hip_circumference\": 100.2}"
   ]
  },
  {
   "cell_type": "code",
   "execution_count": 16,
   "metadata": {},
   "outputs": [],
   "source": [
    "measurement.update(more_measurement)"
   ]
  },
  {
   "cell_type": "code",
   "execution_count": 17,
   "metadata": {},
   "outputs": [
    {
     "data": {
      "text/plain": [
       "19"
      ]
     },
     "execution_count": 17,
     "metadata": {},
     "output_type": "execute_result"
    }
   ],
   "source": [
    "len(measurement)"
   ]
  },
  {
   "cell_type": "code",
   "execution_count": 18,
   "metadata": {},
   "outputs": [
    {
     "name": "stdout",
     "output_type": "stream",
     "text": [
      "{'neck': 10, 'shoulder': 19, 'sleeve': 26, 'sleeve_round': 10, 'chest': 41, 'wrist': 6, 'top_waist': 38, 'top_length': 38, 'waist': 33, 'laps': 26, 'laps_under_knee': 18, 'length': 42, 'ankle': 10, 'height': 72, 'weight': 70, 'WHR': 0.95, 'waist_circumference': 95.5, 'BMI': 26.4, 'hip_circumference': 100.2}\n"
     ]
    }
   ],
   "source": [
    "print(measurement)"
   ]
  },
  {
   "cell_type": "code",
   "execution_count": 19,
   "metadata": {},
   "outputs": [],
   "source": [
    "import pandas as pd"
   ]
  },
  {
   "cell_type": "code",
   "execution_count": 20,
   "metadata": {},
   "outputs": [],
   "source": [
    "(pd.DataFrame.from_dict(data = measurement, orient = 'index')\n",
    "    .to_csv('data.csv', header = False))"
   ]
  },
  {
   "cell_type": "code",
   "execution_count": null,
   "metadata": {},
   "outputs": [],
   "source": []
  }
 ],
 "metadata": {
  "kernelspec": {
   "display_name": "Python 3",
   "language": "python",
   "name": "python3"
  },
  "language_info": {
   "codemirror_mode": {
    "name": "ipython",
    "version": 3
   },
   "file_extension": ".py",
   "mimetype": "text/x-python",
   "name": "python",
   "nbconvert_exporter": "python",
   "pygments_lexer": "ipython3",
   "version": "3.7.6"
  }
 },
 "nbformat": 4,
 "nbformat_minor": 4
}
