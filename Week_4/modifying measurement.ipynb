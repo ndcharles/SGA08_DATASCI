{
 "cells": [
  {
   "cell_type": "markdown",
   "metadata": {},
   "source": [
    "# Modifying measurement"
   ]
  },
  {
   "cell_type": "markdown",
   "metadata": {},
   "source": [
    "Please, this was done just in case the first one turned out wrong. \n",
    "This was more challenging anyway."
   ]
  },
  {
   "cell_type": "code",
   "execution_count": 29,
   "metadata": {},
   "outputs": [],
   "source": [
    "height = [63, 72, 59, 70, 66]\n",
    "weight = [70, 63, 60, 78, 88]\n",
    "WHR = [0.95, 0.92, 1.0, 0.90, 0.91]\n",
    "waist_circumference = [95.5, 95.2, 93.8, 94.4, 92.7]"
   ]
  },
  {
   "cell_type": "code",
   "execution_count": 27,
   "metadata": {},
   "outputs": [],
   "source": [
    "measurement_dict = {};"
   ]
  },
  {
   "cell_type": "code",
   "execution_count": 50,
   "metadata": {},
   "outputs": [],
   "source": [
    "measurement_dict['height'] = height"
   ]
  },
  {
   "cell_type": "code",
   "execution_count": 49,
   "metadata": {},
   "outputs": [],
   "source": [
    "measurement_dict['weight'] = weight"
   ]
  },
  {
   "cell_type": "code",
   "execution_count": 51,
   "metadata": {},
   "outputs": [],
   "source": [
    "measurement_dict['WHR'] = WHR"
   ]
  },
  {
   "cell_type": "code",
   "execution_count": 52,
   "metadata": {},
   "outputs": [],
   "source": [
    "measurement_dict['waist_circumference'] = waist_circumference"
   ]
  },
  {
   "cell_type": "code",
   "execution_count": 62,
   "metadata": {},
   "outputs": [
    {
     "name": "stdout",
     "output_type": "stream",
     "text": [
      "{'height': [63, 72, 59, 70, 66], 'weight': [70, 63, 60, 78, 88], 'WHR': [0.95, 0.92, 1.0, 0.9, 0.91], 'waist_circumference': [95.5, 95.2, 93.8, 94.4, 92.7]}\n"
     ]
    }
   ],
   "source": [
    "print(measurement_dict)"
   ]
  },
  {
   "cell_type": "markdown",
   "metadata": {},
   "source": [
    "Is there an **easy way** to add all these contents once without calling in one at a time??\n",
    "Imagine having 100 dictionary values ~~(as variables)~~ to add at once."
   ]
  },
  {
   "cell_type": "code",
   "execution_count": 64,
   "metadata": {},
   "outputs": [],
   "source": [
    "import pandas as pd"
   ]
  },
  {
   "cell_type": "code",
   "execution_count": 70,
   "metadata": {},
   "outputs": [],
   "source": [
    "data_modified = pd.DataFrame.from_dict(measurement_dict)"
   ]
  },
  {
   "cell_type": "code",
   "execution_count": 71,
   "metadata": {},
   "outputs": [
    {
     "name": "stdout",
     "output_type": "stream",
     "text": [
      "   height  weight   WHR  waist_circumference\n",
      "0      63      70  0.95                 95.5\n",
      "1      72      63  0.92                 95.2\n",
      "2      59      60  1.00                 93.8\n",
      "3      70      78  0.90                 94.4\n",
      "4      66      88  0.91                 92.7\n"
     ]
    }
   ],
   "source": [
    "print(data_modified)"
   ]
  },
  {
   "cell_type": "code",
   "execution_count": 73,
   "metadata": {},
   "outputs": [],
   "source": [
    "pd.DataFrame.from_dict(measurement_dict).to_csv('data_modified.csv')"
   ]
  },
  {
   "cell_type": "markdown",
   "metadata": {},
   "source": [
    "T'was nice doing business with you.\n",
    "~~Stress kpoju~~ but was worth it."
   ]
  }
 ],
 "metadata": {
  "kernelspec": {
   "display_name": "Python 3",
   "language": "python",
   "name": "python3"
  },
  "language_info": {
   "codemirror_mode": {
    "name": "ipython",
    "version": 3
   },
   "file_extension": ".py",
   "mimetype": "text/x-python",
   "name": "python",
   "nbconvert_exporter": "python",
   "pygments_lexer": "ipython3",
   "version": "3.7.6"
  }
 },
 "nbformat": 4,
 "nbformat_minor": 4
}
