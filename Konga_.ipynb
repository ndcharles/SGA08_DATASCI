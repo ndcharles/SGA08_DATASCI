{
 "cells": [
  {
   "cell_type": "code",
   "execution_count": 83,
   "metadata": {},
   "outputs": [],
   "source": [
    "import pandas as pd\n",
    "import requests\n",
    "from bs4 import BeautifulSoup\n",
    "import time"
   ]
  },
  {
   "cell_type": "code",
   "execution_count": 5,
   "metadata": {},
   "outputs": [],
   "source": [
    "base_url = \"https://www.konga.com/category/electronics-5261\"\n",
    "headers = {'User-Agent': 'Mozilla/5.0 (Linux; Android 6.0; Nexus 5 Build/MRA58N) AppleWebKit/537.36 (KHTML, like Gecko) Chrome/83.0.4103.106 Mobile Safari/537.36'}"
   ]
  },
  {
   "cell_type": "code",
   "execution_count": 8,
   "metadata": {},
   "outputs": [
    {
     "data": {
      "text/plain": [
       "200"
      ]
     },
     "execution_count": 8,
     "metadata": {},
     "output_type": "execute_result"
    }
   ],
   "source": [
    "response = requests.get(base_url, headers=headers)\n",
    "response.status_code\n",
    "# response.text"
   ]
  },
  {
   "cell_type": "code",
   "execution_count": 10,
   "metadata": {},
   "outputs": [],
   "source": [
    "soup = BeautifulSoup(response.text, 'lxml')"
   ]
  },
  {
   "cell_type": "code",
   "execution_count": 15,
   "metadata": {},
   "outputs": [
    {
     "data": {
      "text/plain": [
       "'Electronics | Buy Online at Affordable Prices | Konga Online Shopping'"
      ]
     },
     "execution_count": 15,
     "metadata": {},
     "output_type": "execute_result"
    }
   ],
   "source": [
    "soup.title.get_text().strip()"
   ]
  },
  {
   "cell_type": "code",
   "execution_count": 16,
   "metadata": {},
   "outputs": [],
   "source": [
    "titles = soup.select(\".af885_1iPzH > h3\")"
   ]
  },
  {
   "cell_type": "code",
   "execution_count": 18,
   "metadata": {},
   "outputs": [
    {
     "data": {
      "text/plain": [
       "20"
      ]
     },
     "execution_count": 18,
     "metadata": {},
     "output_type": "execute_result"
    }
   ],
   "source": [
    "len(titles)"
   ]
  },
  {
   "cell_type": "code",
   "execution_count": 21,
   "metadata": {},
   "outputs": [
    {
     "data": {
      "text/plain": [
       "'Video Camera Camcorder Tripod with Ph...'"
      ]
     },
     "execution_count": 21,
     "metadata": {},
     "output_type": "execute_result"
    }
   ],
   "source": [
    "title_list = []\n",
    "for title in titles:\n",
    "    title_list.append(title.get_text())\n",
    "title_list[2]"
   ]
  },
  {
   "cell_type": "code",
   "execution_count": 47,
   "metadata": {},
   "outputs": [
    {
     "data": {
      "text/plain": [
       "<span class=\"d7c0f_sJAqi\"><span style=\"font-family:sans-serif;margin-right:1px\">₦</span>37,690</span>"
      ]
     },
     "execution_count": 47,
     "metadata": {},
     "output_type": "execute_result"
    }
   ],
   "source": [
    "prices = soup.select('.d7c0f_sJAqi')\n",
    "prices[0]"
   ]
  },
  {
   "cell_type": "code",
   "execution_count": null,
   "metadata": {},
   "outputs": [],
   "source": []
  },
  {
   "cell_type": "code",
   "execution_count": 52,
   "metadata": {},
   "outputs": [
    {
     "data": {
      "text/plain": [
       "'₦37,690'"
      ]
     },
     "execution_count": 52,
     "metadata": {},
     "output_type": "execute_result"
    }
   ],
   "source": [
    "prices_list = []\n",
    "for i in enumerate(prices):\n",
    "    prices_list.append(price.get_text())\n",
    "prices_list[0]"
   ]
  },
  {
   "cell_type": "code",
   "execution_count": 54,
   "metadata": {},
   "outputs": [
    {
     "data": {
      "text/plain": [
       "'ashour-fzco'"
      ]
     },
     "execution_count": 54,
     "metadata": {},
     "output_type": "execute_result"
    }
   ],
   "source": [
    "seller = soup.select('._7cc7b_23GsY > a')\n",
    "seller[0].text"
   ]
  },
  {
   "cell_type": "code",
   "execution_count": 55,
   "metadata": {},
   "outputs": [
    {
     "data": {
      "text/plain": [
       "'ashour-fzco'"
      ]
     },
     "execution_count": 55,
     "metadata": {},
     "output_type": "execute_result"
    }
   ],
   "source": [
    "sellers_list = []\n",
    "for sell in seller:\n",
    "    sellers_list.append(sell.get_text())\n",
    "sellers_list[0]"
   ]
  },
  {
   "cell_type": "code",
   "execution_count": 56,
   "metadata": {},
   "outputs": [
    {
     "data": {
      "text/plain": [
       "'₦42,000'"
      ]
     },
     "execution_count": 56,
     "metadata": {},
     "output_type": "execute_result"
    }
   ],
   "source": [
    "old_price = soup.select('.f6eb3_1MyTu')\n",
    "old_price[0].get_text()"
   ]
  },
  {
   "cell_type": "code",
   "execution_count": 65,
   "metadata": {},
   "outputs": [
    {
     "data": {
      "text/plain": [
       "'₦42,000'"
      ]
     },
     "execution_count": 65,
     "metadata": {},
     "output_type": "execute_result"
    }
   ],
   "source": [
    "old_price_list = []\n",
    "try:\n",
    "    for olp in old_price:\n",
    "        old_price_list.append(olp.get_text())\n",
    "except Exception as e:\n",
    "    olp = None\n",
    "old_price_list[0]"
   ]
  },
  {
   "cell_type": "code",
   "execution_count": 73,
   "metadata": {},
   "outputs": [],
   "source": [
    "ks = {'Titles': title_list,\n",
    "                        'New Price': prices_list,\n",
    "                        'Seller': sellers_list,\n",
    "                        'Old Price': old_price_list}\n",
    "\n",
    "konga_st = pd.DataFrame.from_dict(ks, orient='index')\n",
    "konga_st.transpose()\n",
    "konga_st.to_csv('Konga.csv', header=True)"
   ]
  },
  {
   "cell_type": "code",
   "execution_count": 86,
   "metadata": {},
   "outputs": [],
   "source": [
    "def konga(url):\n",
    "    response = requests.get(base_url, headers=headers)\n",
    "    soup = BeautifulSoup(response.text, 'lxml')\n",
    "    \n",
    "    titles = soup.select(\".af885_1iPzH > h3\")\n",
    "    title_list = []\n",
    "    for title in titles:\n",
    "        title_list.append(title.get_text())\n",
    "\n",
    "    prices = soup.select('.d7c0f_sJAqi')\n",
    "    prices_list = []\n",
    "    for i in enumerate(prices):\n",
    "        prices_list.append(price.get_text())\n",
    "        \n",
    "    seller = soup.select('._7cc7b_23GsY > a')\n",
    "    sellers_list = []\n",
    "    for sell in seller:\n",
    "        sellers_list.append(sell.get_text())\n",
    "        \n",
    "    old_price = soup.select('.f6eb3_1MyTu')\n",
    "    old_price_list = []\n",
    "    try:\n",
    "        for olp in old_price:\n",
    "            old_price_list.append(olp.get_text())\n",
    "    except Exception as e:\n",
    "        olp = None\n",
    "        \n",
    "    return title_list, prices_list, sellers_list, old_price_list"
   ]
  },
  {
   "cell_type": "code",
   "execution_count": 81,
   "metadata": {},
   "outputs": [],
   "source": [
    "base_url = \"https://www.konga.com/category/electronics-5261\"\n",
    "headers = {'User-Agent': 'Mozilla/5.0 (Linux; Android 6.0; Nexus 5 Build/MRA58N) AppleWebKit/537.36 (KHTML, like Gecko) Chrome/83.0.4103.106 Mobile Safari/537.36'}\n",
    "\n",
    "urls = [base_url]\n",
    "for i in range(1, 15):\n",
    "    url = base_url + '?page=' + str(i)\n",
    "    urls.append(url)\n"
   ]
  },
  {
   "cell_type": "code",
   "execution_count": null,
   "metadata": {},
   "outputs": [],
   "source": [
    "master_titles, master_prices, master_sellers, master_old_price = [], [], [], []\n",
    "for url in urls:\n",
    "    titles_list, prices_list, sellers_list, old_price_list = konga(url)\n",
    "    master_titles += titles_list\n",
    "    master_prices += prices_list\n",
    "    master_sellers += sellers_list\n",
    "    master_old_price += old_price_list\n",
    "    \n",
    "    time.sleep(30)"
   ]
  },
  {
   "cell_type": "code",
   "execution_count": null,
   "metadata": {},
   "outputs": [],
   "source": [
    "len(sellers_list)"
   ]
  },
  {
   "cell_type": "code",
   "execution_count": null,
   "metadata": {},
   "outputs": [],
   "source": [
    "ks = {'Titles': master_titles,\n",
    "                        'New Price': master_prices,\n",
    "                        'Seller': master_sellers,\n",
    "                        'Old Price': master_old_price}\n",
    "\n",
    "konga_st = pd.DataFrame.from_dict(ks, orient='index')\n",
    "konga_st.to_csv('Konga.csv', header=True)"
   ]
  },
  {
   "cell_type": "code",
   "execution_count": null,
   "metadata": {},
   "outputs": [],
   "source": []
  }
 ],
 "metadata": {
  "kernelspec": {
   "display_name": "Python 3",
   "language": "python",
   "name": "python3"
  },
  "language_info": {
   "codemirror_mode": {
    "name": "ipython",
    "version": 3
   },
   "file_extension": ".py",
   "mimetype": "text/x-python",
   "name": "python",
   "nbconvert_exporter": "python",
   "pygments_lexer": "ipython3",
   "version": "3.7.6"
  }
 },
 "nbformat": 4,
 "nbformat_minor": 4
}
