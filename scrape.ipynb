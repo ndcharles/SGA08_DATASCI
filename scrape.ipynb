{
 "cells": [
  {
<<<<<<< HEAD
   "cell_type": "markdown",
   "metadata": {},
   "source": [
    "# Web Scraping\n",
    "Unfortunately, the chinese website denied access to it.\n",
    "Switching to hotels.ng posed a challenge of hidden parts which couldn't be accessed by BS.\n",
    "**Scraping Jumia to view their catalogue of educational devices and their prices.** "
   ]
  },
  {
   "cell_type": "code",
   "execution_count": 71,
=======
   "cell_type": "code",
   "execution_count": 45,
>>>>>>> c7b9a971accea279531cb6f0da85c320e7cc08f6
   "metadata": {},
   "outputs": [],
   "source": [
    "import requests\n",
    "from bs4 import BeautifulSoup\n",
<<<<<<< HEAD
    "import csv\n",
    "import pandas as pd"
=======
    "import csv"
>>>>>>> c7b9a971accea279531cb6f0da85c320e7cc08f6
   ]
  },
  {
   "cell_type": "code",
<<<<<<< HEAD
   "execution_count": 72,
=======
   "execution_count": 46,
>>>>>>> c7b9a971accea279531cb6f0da85c320e7cc08f6
   "metadata": {},
   "outputs": [],
   "source": [
    "source = requests.get('https://www.jumia.com.ng/educational-tablets/').text\n",
    "soup = BeautifulSoup(source, 'lxml')"
   ]
  },
  {
   "cell_type": "code",
<<<<<<< HEAD
   "execution_count": 78,
   "metadata": {},
   "outputs": [
    {
     "data": {
      "text/plain": [
       "41"
      ]
     },
     "execution_count": 78,
     "metadata": {},
     "output_type": "execute_result"
    }
   ],
   "source": [
    "csv_file = open('jumia_educational.csv', 'w', newline='', encoding='UTF-8')\n",
    "csv_writer = csv.writer(csv_file)\n",
    "csv_writer.writerow(['device_name', 'discount_price', 'former_price'])"
=======
   "execution_count": null,
   "metadata": {},
   "outputs": [],
   "source": [
    "'''\n",
    "csv_file = open('jumia_educational.csv', 'w')\n",
    "csv_writer = csv.writer(csv_file)\n",
    "csv_writer.writerow(['Device_name', 'Discount_price', 'Old_price']) \n",
    "'''"
>>>>>>> c7b9a971accea279531cb6f0da85c320e7cc08f6
   ]
  },
  {
   "cell_type": "code",
<<<<<<< HEAD
   "execution_count": 77,
=======
   "execution_count": 47,
>>>>>>> c7b9a971accea279531cb6f0da85c320e7cc08f6
   "metadata": {},
   "outputs": [
    {
     "name": "stdout",
     "output_type": "stream",
     "text": [
      "Atouch Atouch ATOUCH K86, Kids Tablet 7 Inch, Android 6.0, 16GB, 1GB DDR3, Wi-Fi, Quad Core, Dual Camera, Pink\n",
      "[<div class=\"prc\">₦ 24,000</div>]\n",
      "[<div class=\"old\">₦ 35,000</div>]\n",
      "\n",
<<<<<<< HEAD
      "Modio Kids Tablet Andriod Modio M1 1GB + 8GB And WiFi, 7 Inch Dual Camera + Google Play With Learning App For Children - Multicolour\n",
      "[<div class=\"prc\">₦ 25,000</div>]\n",
      "[<div class=\"old\">₦ 35,000</div>]\n",
      "\n",
=======
>>>>>>> c7b9a971accea279531cb6f0da85c320e7cc08f6
      "Atouch Atouch ATOUCH K86, Kids Tablet 7 Inch, Android 6.0, 16GB, 1GB DDR3, Wi-Fi, Quad Core, Dual Camera, Pink\n",
      "[<div class=\"prc\">₦ 24,500</div>]\n",
      "[]\n",
      "\n",
<<<<<<< HEAD
      "Atouch Q21 ATOUCH EDUCATIONAL TABLET\n",
      "[<div class=\"prc\">₦ 23,000</div>]\n",
      "[]\n",
=======
      "Cutest Design 7 Inch Android Children Learning & Educational Tablet, Dual Camera, 8G ROM, Wifi, Cartoons, Rhymes, Apps - Pink\n",
      "[<div class=\"prc\">₦ 29,999</div>]\n",
      "[<div class=\"old\">₦ 65,000</div>]\n",
      "\n",
      "Cutest Design 7 Inch Android Children Learning & Educational Tablet, Dual Camera, 8G ROM, Wifi, Cartoons, Rhymes, Apps - Blue\n",
      "[<div class=\"prc\">₦ 29,999</div>]\n",
      "[<div class=\"old\">₦ 65,000</div>]\n",
>>>>>>> c7b9a971accea279531cb6f0da85c320e7cc08f6
      "\n",
      "Siccoo Siccoo 7inch Kids Educational Tablet Android 6.1,8GB, WiF, Dual Camera With Playstore \n",
      "[<div class=\"prc\">₦ 27,000</div>]\n",
      "[]\n",
      "\n",
<<<<<<< HEAD
      "Atouch Atouch K88 Kids Tablet 7 Inch, Android 6.1, 8GB-ROM, Wi-Fi, Dual Core, Dual Camera, Blue Case\n",
      "[<div class=\"prc\">₦ 26,500</div>]\n",
=======
      "Atouch Atouch Atouch ATOUCH K86, Kids Tablet 7 Inch, Android 6.0, 16GB, 1GB DDR3, Wi-Fi, Quad Core, Dual Camera, \n",
      "[<div class=\"prc\">₦ 24,500</div>]\n",
>>>>>>> c7b9a971accea279531cb6f0da85c320e7cc08f6
      "[]\n",
      "\n",
      "Atouch ATOUCH K89 KIDS TABLET PC\n",
      "[<div class=\"prc\">₦ 26,000</div>]\n",
      "[]\n",
      "\n",
<<<<<<< HEAD
      "Atouch Atouch Atouch ATOUCH K86, Kids Tablet 7 Inch, Android 6.0, 16GB, 1GB DDR3, Wi-Fi, Quad Core, Dual Camera, \n",
      "[<div class=\"prc\">₦ 24,500</div>]\n",
      "[]\n",
      "\n",
      "Kurio Tab Junior - RED, 8 GB Storage, + Genius Parental Controls\n",
      "[<div class=\"prc\">₦ 39,900</div>]\n",
      "[<div class=\"old\">₦ 60,000</div>]\n",
      "\n",
      "Cutest Design 7 Inch Android Children Learning & Educational Tablet, Dual Camera, 8G ROM, Wifi, Cartoons, Rhymes, Apps - Blue\n",
      "[<div class=\"prc\">₦ 29,999</div>]\n",
      "[<div class=\"old\">₦ 65,000</div>]\n",
=======
      "Bebe Bebe B -2020 Kids Educational Tablet With Dual SIM, WiFi And Free Pouch\n",
      "[<div class=\"prc\">₦ 43,605</div>]\n",
      "[<div class=\"old\">₦ 50,000</div>]\n",
>>>>>>> c7b9a971accea279531cb6f0da85c320e7cc08f6
      "\n",
      "Atouch K88 - 7inch Kids Educational Tablet Android 6.1,8GB,WiFi,Dual Camera With Play Store \n",
      "[<div class=\"prc\">₦ 27,500</div>]\n",
      "[]\n",
      "\n",
      "Disney 7” Android Kids Tablet Bundle By SmarTab + 8GB SD CARD\n",
      "[<div class=\"prc\">₦ 49,900</div>]\n",
      "[]\n",
      "\n",
      "Atouch Atouch\n",
      "[<div class=\"prc\">₦ 28,000</div>]\n",
      "[]\n",
      "\n",
<<<<<<< HEAD
=======
      "Atouch Atouch K88 Kids Tablet 7 Inch, Android 6.1, 8GB-ROM, Wi-Fi, Dual Core, Dual Camera, Blue Case\n",
      "[<div class=\"prc\">₦ 26,500</div>]\n",
      "[]\n",
      "\n",
>>>>>>> c7b9a971accea279531cb6f0da85c320e7cc08f6
      "Disney AirBook 7\" IPS BT WiFi Android 8.1 Go OS Kids By SmarTab  + 8GB SD CARD\n",
      "[<div class=\"prc\">₦ 49,900</div>]\n",
      "[]\n",
      "\n",
<<<<<<< HEAD
      "Smart 2030 KiDs Tablet Smart 2030 For Kids Visual Learning- 1G Ram- Pink\n",
      "[<div class=\"prc\">₦ 38,000</div>]\n",
      "[<div class=\"old\">₦ 48,000</div>]\n",
      "\n",
      "Bebe Kids 10.1-inch Tablet Bebe B-2020 Learning Tablet With Dual Sim, WiFi, And Free Pouch\n",
      "[<div class=\"prc\">₦ 45,000</div>]\n",
      "[<div class=\"old\">₦ 50,000</div>]\n",
      "\n",
      "Bebe Kids Educational 10.1-inch Bebe B-2020 Tablet With Dual Sim, WiFi And Free Pouch\n",
      "[<div class=\"prc\">₦ 45,000</div>]\n",
      "[<div class=\"old\">₦ 50,000</div>]\n",
      "\n",
      "Bebe Bebe 10.1 B-2020 Kids Educational Tablet With Dual Sim, WiFi, And Free Pouch\n",
      "[<div class=\"prc\">₦ 45,000</div>]\n",
      "[<div class=\"old\">₦ 50,000</div>]\n",
=======
      "Bebe Kids 10.1-inch Tablet Bebe B-2020 Learning Tablet With Dual Sim, WiFi, And Free Pouch\n",
      "[<div class=\"prc\">₦ 50,000</div>]\n",
      "[]\n",
      "\n",
      "Bebe Kids Tablet 10.1-inch Bebe B-2020 Dual Sim, WiFi And Free Touch\n",
      "[<div class=\"prc\">₦ 50,000</div>]\n",
      "[]\n",
      "\n",
      "Bebe Kids Educational 10.1-inch Bebe B-2020 Tablet With Dual Sim, WiFi And Free Pouch\n",
      "[<div class=\"prc\">₦ 50,000</div>]\n",
      "[]\n",
      "\n",
      "Bebe Bebe 10.1 B-2020 Kids Educational Tablet With Dual Sim, WiFi, And Free Pouch\n",
      "[<div class=\"prc\">₦ 50,000</div>]\n",
      "[]\n",
      "\n",
      "Kurio Tab Junior - RED, 8 GB Storage, + Genius Parental Controls\n",
      "[<div class=\"prc\">₦ 42,000</div>]\n",
      "[<div class=\"old\">₦ 60,000</div>]\n",
>>>>>>> c7b9a971accea279531cb6f0da85c320e7cc08f6
      "\n",
      "Samsung Galaxy Tab A 8.0, 2GB RAM, 32GB ROM, 4GLTE\n",
      "[<div class=\"prc\">₦ 80,500</div>]\n",
      "[<div class=\"old\">₦ 95,000</div>]\n",
      "\n",
      "Samsung Galaxy Tab A 8.0, 2GB RAM, 32GB ROM, 4GLTE\n",
      "[<div class=\"prc\">₦ 80,500</div>]\n",
      "[<div class=\"old\">₦ 96,000</div>]\n",
      "\n",
<<<<<<< HEAD
      "Ccit CCIT JOYEUX NOEL KEDDIES 12 -CHILDREN/KIDS EDUCATIONAL LEARNING TABLET -2G RAM -Blue/Pink\n",
      "[<div class=\"prc\">₦ 32,000</div>]\n",
      "[<div class=\"old\">₦ 45,000</div>]\n",
      "\n",
      "Modio New Kids Tablet Andriod Modio M1 1GB + 8GB And WiFi, 7 Inch Dual Camera + Google Play With Learning App For Children - Multicolour\n",
      "[<div class=\"prc\">₦ 30,000</div>]\n",
      "[<div class=\"old\">₦ 40,000</div>]\n",
      "\n",
      "Modio Kids Tablet Andriod Modio M3 1GB + 16GB And WiFi, Cartoon Album, Screen Protector, Earphone, Colourful Pen, Touch Pen, 3D Glasses,7 Inch Dual Camera + Google Play With Learning App For Children - Blue\n",
      "[<div class=\"prc\">₦ 35,000</div>]\n",
      "[<div class=\"old\">₦ 45,000</div>]\n",
      "\n",
      "Smart 2030 Smart 2030 Kids Educational Learning Tablet -WiFi Support\n",
      "[<div class=\"prc\">₦ 32,000</div>]\n",
      "[<div class=\"old\">₦ 44,000</div>]\n",
      "\n",
      "Atouch Atouch 7 Inch E-Learning 4G Dual Sim Slot Tablet With Secondary School Pre-Installed App,16GB Storage + Power Bank- Blue Pouch\n",
      "[<div class=\"prc\">₦ 38,000</div>]\n",
      "[<div class=\"old\">₦ 40,000</div>]\n",
      "\n",
      "Bebe Bebe B -2020 Kids Educational Tablet With Dual SIM, WiFi And Free Pouch\n",
      "[<div class=\"prc\">₦ 45,000</div>]\n",
      "[<div class=\"old\">₦ 50,000</div>]\n",
      "\n",
=======
>>>>>>> c7b9a971accea279531cb6f0da85c320e7cc08f6
      " 7inch WiFi Tablet For Kids-8GB Quad Core Camera-IPS LCD With Study Games\n",
      "[<div class=\"prc\">₦ 27,000</div>]\n",
      "[]\n",
      "\n",
<<<<<<< HEAD
=======
      "Atouch Q21 ATOUCH EDUCATIONAL TABLET\n",
      "[<div class=\"prc\">₦ 23,000</div>]\n",
      "[]\n",
      "\n",
>>>>>>> c7b9a971accea279531cb6f0da85c320e7cc08f6
      "Atouch ATOUCH A12 TABLET PC \n",
      "[<div class=\"prc\">₦ 30,000</div>]\n",
      "[]\n",
      "\n",
<<<<<<< HEAD
=======
      "Ccit CCIT JOYEUX NOEL KEDDIES 12 -CHILDREN/KIDS EDUCATIONAL LEARNING TABLET -2G RAM -Blue/Pink\n",
      "[<div class=\"prc\">₦ 34,000</div>]\n",
      "[<div class=\"old\">₦ 45,000</div>]\n",
      "\n",
      "Smart 2030 Smart 2030 Kids Educational Learning Tablet -WiFi Support\n",
      "[<div class=\"prc\">₦ 34,000</div>]\n",
      "[<div class=\"old\">₦ 44,000</div>]\n",
      "\n",
>>>>>>> c7b9a971accea279531cb6f0da85c320e7cc08f6
      "Crony Play And Learn Children-Kids Early Education J8-Android Tablet-1G RAM/16G ROM/WIFI\n",
      "[<div class=\"prc\">₦ 36,000</div>]\n",
      "[<div class=\"old\">₦ 52,000</div>]\n",
      "\n",
      "Wintouch Wintouch 10inches Kids Educational Tablet With Dual SIM, WiFi And Free Pouch\n",
      "[<div class=\"prc\">₦ 48,000</div>]\n",
      "[<div class=\"old\">₦ 60,000</div>]\n",
      "\n",
      "Atouch ATOUCH K89 KIDS TABLET PC\n",
      "[<div class=\"prc\">₦ 29,000</div>]\n",
      "[<div class=\"old\">₦ 35,000</div>]\n",
      "\n",
      "Wintouch  Kids Educational Tablet With Dual SIM, WiFi And Free Pouch\n",
      "[<div class=\"prc\">₦ 45,000</div>]\n",
      "[<div class=\"old\">₦ 60,000</div>]\n",
      "\n",
      "Atouch Atouch Atouch ATOUCH K86, Kids Tablet 7 Inch, Android 6.0, 16GB, 1GB DDR3, Wi-Fi, Quad Core, Dual Camera,\n",
      "[<div class=\"prc\">₦ 29,000</div>]\n",
      "[<div class=\"old\">₦ 30,000</div>]\n",
      "\n",
<<<<<<< HEAD
=======
      "Atouch Atouch 7 Inch E-Learning 4G Dual Sim Slot Tablet With Secondary School Pre-Installed App,16GB Storage + Power Bank- Blue Pouch\n",
      "[<div class=\"prc\">₦ 35,000</div>]\n",
      "[<div class=\"old\">₦ 40,000</div>]\n",
      "\n",
>>>>>>> c7b9a971accea279531cb6f0da85c320e7cc08f6
      "Atouch Atouch Children Android 6.1 Tablet 7\"inch (1GB+8GB) And WiFi\n",
      "[<div class=\"prc\">₦ 32,500</div>]\n",
      "[<div class=\"old\">₦ 35,000</div>]\n",
      "\n",
      "Wintouch K93 Children Educational Tablet 10.0inch+Android,16GB\n",
      "[<div class=\"prc\">₦ 35,000</div>]\n",
      "[]\n",
      "\n",
      "Amazon Fire 8 Alexa 16Gb, 8\"HD Display 2018 Light Weight Shockproof\n",
      "[<div class=\"prc\">₦ 62,000</div>]\n",
      "[<div class=\"old\">₦ 79,000</div>]\n",
      "\n",
      "Atouch Atouch K88 Kid's Tablet Android 6.1 Tablet, 1GB +8GB, Wifi, Dual Camera - Pouch\n",
      "[<div class=\"prc\">₦ 28,000</div>]\n",
      "[]\n",
      "\n",
      "Atouch X10 Educational Tablet, 4G Dual Sim, 7 Inch 32GB ROM 3GB RAM With Free Power Bank - Black\n",
      "[<div class=\"prc\">₦ 38,500</div>]\n",
      "[<div class=\"old\">₦ 40,000</div>]\n",
      "\n",
<<<<<<< HEAD
=======
      "Modio Kids Tablet Andriod Modio M1 1GB + 8GB And WiFi, 7 Inch Dual Camera + Google Play With Learning App For Children - Multicolour\n",
      "[<div class=\"prc\">₦ 40,000</div>]\n",
      "[]\n",
      "\n",
>>>>>>> c7b9a971accea279531cb6f0da85c320e7cc08f6
      "Atouch K89 Educational Tablet 16GB ROM, 1GB RAM - Blue\n",
      "[<div class=\"prc\">₦ 32,000</div>]\n",
      "[<div class=\"old\">₦ 34,500</div>]\n",
      "\n",
<<<<<<< HEAD
=======
      "Modio New Kids Tablet Andriod Modio M1 1GB + 8GB And WiFi, 7 Inch Dual Camera + Google Play With Learning App For Children - Multicolour\n",
      "[<div class=\"prc\">₦ 40,000</div>]\n",
      "[]\n",
      "\n",
>>>>>>> c7b9a971accea279531cb6f0da85c320e7cc08f6
      "Siccoo Siccoo Siccoo 7inch Kids Educational Tablet Android 6.1,16GB, WiF, Dual Camera With Playstore\n",
      "[<div class=\"prc\">₦ 26,500</div>]\n",
      "[]\n",
      "\n"
     ]
<<<<<<< HEAD
=======
    },
    {
     "data": {
      "text/plain": [
       "'   \\ncsv_writer.writerow([Device_name, Discount_price, Old_price])\\n\\ncsv_file.close() '"
      ]
     },
     "execution_count": 47,
     "metadata": {},
     "output_type": "execute_result"
>>>>>>> c7b9a971accea279531cb6f0da85c320e7cc08f6
    }
   ],
   "source": [
    "for column in soup.find_all('article', class_=\"prd _fb col c-prd\"):\n",
    "    \n",
    "    device_name = column.h3.text\n",
    "    print(device_name)\n",
    "    \n",
    "    try:\n",
    "        discount_price = column('div', class_='prc')\n",
    "        print(discount_price)\n",
    "    except Exception as e:\n",
    "        pass\n",
    "    \n",
    "    former_price = column('div', class_='old')\n",
    "    print(former_price)\n",
    "    \n",
    "    print()\n",
<<<<<<< HEAD
    "    "
=======
    "    \n",
    "'''   \n",
    "csv_writer.writerow([Device_name, Discount_price, Old_price])\n",
    "\n",
    "csv_file.close() '''"
>>>>>>> c7b9a971accea279531cb6f0da85c320e7cc08f6
   ]
  },
  {
   "cell_type": "markdown",
   "metadata": {},
   "source": []
  }
 ],
 "metadata": {
  "kernelspec": {
   "display_name": "Python 3",
   "language": "python",
   "name": "python3"
  },
  "language_info": {
   "codemirror_mode": {
    "name": "ipython",
    "version": 3
   },
   "file_extension": ".py",
   "mimetype": "text/x-python",
   "name": "python",
   "nbconvert_exporter": "python",
   "pygments_lexer": "ipython3",
   "version": "3.7.6"
  }
 },
 "nbformat": 4,
 "nbformat_minor": 4
}
